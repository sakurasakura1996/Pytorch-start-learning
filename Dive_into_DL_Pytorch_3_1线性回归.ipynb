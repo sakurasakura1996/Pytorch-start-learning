{
  "nbformat": 4,
  "nbformat_minor": 0,
  "metadata": {
    "colab": {
      "name": "Dive-into-DL-Pytorch-3.1线性回归.ipynb",
      "provenance": [],
      "collapsed_sections": [],
      "mount_file_id": "1tBvWZ9s_tEt3D9_IQl3hLktP0EF46MZp",
      "authorship_tag": "ABX9TyOnytuQTdpzczKRae3LS9P2",
      "include_colab_link": true
    },
    "kernelspec": {
      "name": "python3",
      "display_name": "Python 3"
    }
  },
  "cells": [
    {
      "cell_type": "markdown",
      "metadata": {
        "id": "view-in-github",
        "colab_type": "text"
      },
      "source": [
        "<a href=\"https://colab.research.google.com/github/sakurasakura1996/Pytorch-start-learning/blob/master/Dive_into_DL_Pytorch_3_1%E7%BA%BF%E6%80%A7%E5%9B%9E%E5%BD%92.ipynb\" target=\"_parent\"><img src=\"https://colab.research.google.com/assets/colab-badge.svg\" alt=\"Open In Colab\"/></a>"
      ]
    },
    {
      "cell_type": "markdown",
      "metadata": {
        "id": "Ms0_H5I29wzK",
        "colab_type": "text"
      },
      "source": [
        "# 3.1线性回归\n",
        "线性回归输出是一个连续值，因此适用于回归问题。回归问题实际中很常见。分类问题中模型的最终输出是一个离散值。softmax回归则适用于分类问题。\n",
        "由于线性回归和softmax回归都是单层神经网络，所以以此为例介绍大多数深度学习模型的基本要素和表示方法"
      ]
    },
    {
      "cell_type": "markdown",
      "metadata": {
        "id": "y11y30A2AVGr",
        "colab_type": "text"
      },
      "source": [
        "## 3.1.1 线性回归基本要素\n",
        "以房价预测为例，我们简单的认为房价取决于面积和房屋年龄两个因素，即特征。\n",
        "### 3.1.1.1 模型定义   字太多了，pdf还复制不了，这里就不敲了\n",
        "    y = w1*x1 + w2*x2 + b    -->模型\n",
        "### 3.1.1.2 模型训练\n",
        "    训练数据（找到最适合的参数）\n",
        "    损失函数（衡量预测值和真实值之间的误差，使之越小越好）\n",
        "    优化算法\n",
        "### 3.1.1.3 模型预测\n",
        "## 3.1.2 线性回归的表示方法\n"
      ]
    },
    {
      "cell_type": "code",
      "metadata": {
        "id": "OTdefNrt9glw",
        "colab_type": "code",
        "colab": {}
      },
      "source": [
        "# 3.2 线性回归的从零开始实现\n",
        "%matplotlib inline   \n",
        "# 嵌入显示\n",
        "import torch\n",
        "import matplotlib.pyplot as plt\n",
        "import numpy as np\n",
        "import random\n",
        "from IPython import display\n",
        "\n",
        " "
      ],
      "execution_count": 0,
      "outputs": []
    },
    {
      "cell_type": "code",
      "metadata": {
        "id": "qUbMhuMvE3z5",
        "colab_type": "code",
        "colab": {}
      },
      "source": [
        "# 3.2.1 生成数据集\n",
        "num_inputs = 2\n",
        "num_examples = 1000\n",
        "true_w = [2, -3.4]\n",
        "true_b = 4.2\n",
        "features = torch.from_numpy(np.random.normal(0,1,(num_examples,num_inputs)))\n",
        "labels = true_w[0]*features[:,0] + true_w[1]*features[:,1] + true_b\n",
        "labels += torch.from_numpy(np.random.normal(0, 0.01, size=labels.size()))\n"
      ],
      "execution_count": 0,
      "outputs": []
    },
    {
      "cell_type": "code",
      "metadata": {
        "id": "aAbmn37nGQ4j",
        "colab_type": "code",
        "outputId": "b3d17de2-d755-4285-b115-0486ffdb285a",
        "colab": {
          "base_uri": "https://localhost:8080/",
          "height": 265
        }
      },
      "source": [
        "# 通过生成第二个特征features[:,1] 和标签labels的散点图，可以更直观观察两者间的线性关系\n",
        "def use_svg_display():\n",
        "  # 用矢量图显示\n",
        "  display.set_matplotlib_formats('svg')\n",
        "\n",
        "def set_figsize(figsize=(3.5, 2.5)):\n",
        "  use_svg_display()\n",
        "  # 设置图的尺寸\n",
        "  plt.rcParams['figure.figsize'] =  figsize\n",
        "\n",
        "# 貌似上面的并没卵用啊\n",
        "# set_figsize()\n",
        "fig = plt.figure()\n",
        "plt.scatter(features[:,1].numpy(), labels.numpy(),1)\n",
        "plt.show()"
      ],
      "execution_count": 3,
      "outputs": [
        {
          "output_type": "display_data",
          "data": {
            "image/png": "[encoded data removed]",
            "text/plain": [
              "<Figure size 432x288 with 1 Axes>"
            ]
          },
          "metadata": {
            "tags": []
          }
        }
      ]
    },
    {
      "cell_type": "code",
      "metadata": {
        "id": "UxXlpH0cHg0H",
        "colab_type": "code",
        "colab": {}
      },
      "source": [
        "# 3.2.2 读取数据\n",
        "# 训练模型时，我们需要遍历数据集并不断读取小批量的数据样本。这里定义一个函数：他每次返回batch_size个随机样本的特征和标签啦\n",
        "def data_iter(batch_size, features, labels):\n",
        "  num_examples = len(features)\n",
        "  indices = list(range(num_examples))\n",
        "  random.shuffle(indices)  # 样本读取顺序是随机的\n",
        "  for i in range(0, num_examples, batch_size):\n",
        "    j = torch.LongTensor(indices[i:min(i+batch_size, num_examples)])   # 最后一次可能不足一个batch\n",
        "    yield features.index_select(0, j), labels.index_select(0, j)"
      ],
      "execution_count": 0,
      "outputs": []
    },
    {
      "cell_type": "code",
      "metadata": {
        "id": "0YiPVIMRJ_CM",
        "colab_type": "code",
        "outputId": "c84186ca-c18c-4a82-92d3-2bca5e3e93e5",
        "colab": {
          "base_uri": "https://localhost:8080/",
          "height": 34
        }
      },
      "source": [
        "# 3.2.3 初始化模型参数\n",
        "w = torch.tensor(np.random.normal(0, 0.01, (num_inputs, 1)),dtype=torch.float64)\n",
        "b = torch.zeros(1,dtype=torch.float64)\n",
        "\n",
        "# 之后的迭代中，我们需要对这些参数求梯度来迭代参数的值\n",
        "w.requires_grad_(requires_grad=True)    # In-place方式\n",
        "b.requires_grad_(requires_grad=True)\n"
      ],
      "execution_count": 13,
      "outputs": [
        {
          "output_type": "execute_result",
          "data": {
            "text/plain": [
              "tensor([0.], dtype=torch.float64, requires_grad=True)"
            ]
          },
          "metadata": {
            "tags": []
          },
          "execution_count": 13
        }
      ]
    },
    {
      "cell_type": "code",
      "metadata": {
        "id": "YP2PNQ5LLnQS",
        "colab_type": "code",
        "colab": {}
      },
      "source": [
        "# 3.2.4 定义模型\n",
        "# 下面是线性回归的矢量计算表达式的实现。使用mm做矩阵乘法\n",
        "def linreg(X, w, b):\n",
        "  return torch.mm(X,w)+b"
      ],
      "execution_count": 0,
      "outputs": []
    },
    {
      "cell_type": "code",
      "metadata": {
        "id": "Jjrmpc5nL4Ed",
        "colab_type": "code",
        "colab": {}
      },
      "source": [
        "# 3.2.5 定义损失函数\n",
        "def squared_loss(y_hat,y):\n",
        "  return (y_hat - y.view(y_hat.size())) ** 2 / 2\n"
      ],
      "execution_count": 0,
      "outputs": []
    },
    {
      "cell_type": "code",
      "metadata": {
        "id": "x189XCDtMMra",
        "colab_type": "code",
        "colab": {}
      },
      "source": [
        "# 3.2.6 定义优化算法\n",
        "# 实现的是小批量随机梯度下降算法 这里自动求梯度模块计算得来的梯度是一个批量样本的梯度和。我们将它除以批量大小来得到平均值\n",
        "def sgd(params, lr, batch_size):\n",
        "  for param in params:\n",
        "    param.data -= lr * param.grad / batch_size   # 注意这里更改param时用的是param.data 也就是我之前那个不懂的地方所在"
      ],
      "execution_count": 0,
      "outputs": []
    },
    {
      "cell_type": "code",
      "metadata": {
        "id": "YNQTvKCzNAYF",
        "colab_type": "code",
        "outputId": "429f416e-ee67-4833-8df6-e2380066cf88",
        "colab": {
          "base_uri": "https://localhost:8080/",
          "height": 70
        }
      },
      "source": [
        "# 3.2.7 训练模型\n",
        "lr = 0.03\n",
        "num_epochs = 3\n",
        "batch_size = 10\n",
        "net = linreg\n",
        "loss = squared_loss\n",
        "for epoch in range(num_epochs):\n",
        "  for X, y in data_iter(batch_size,features,labels):\n",
        "    l = loss(net(X,w,b),y).sum()\n",
        "    l.backward()\n",
        "    sgd([w,b],lr,batch_size)\n",
        "\n",
        "    # 千万不要忘了梯度清零，不然梯度一直累加就错了呀\n",
        "    w.grad.data.zero_()\n",
        "    b.grad.data.zero_()\n",
        "  train_l = loss(net(features,w,b),labels)\n",
        "  print('epoch %d,loss %f' % (epoch+1,train_l.mean().item()))"
      ],
      "execution_count": 16,
      "outputs": [
        {
          "output_type": "stream",
          "text": [
            "epoch 1,loss 0.000142\n",
            "epoch 2,loss 0.000050\n",
            "epoch 3,loss 0.000050\n"
          ],
          "name": "stdout"
        }
      ]
    },
    {
      "cell_type": "code",
      "metadata": {
        "id": "HmWtaYKmOm_5",
        "colab_type": "code",
        "colab": {
          "base_uri": "https://localhost:8080/",
          "height": 105
        },
        "outputId": "21151f96-9dd7-46d1-ce44-2d93b04db36d"
      },
      "source": [
        "print(true_w, '\\n', w)\n",
        "print(true_b, '\\n', b)"
      ],
      "execution_count": 17,
      "outputs": [
        {
          "output_type": "stream",
          "text": [
            "[2, -3.4] \n",
            " tensor([[ 1.9991],\n",
            "        [-3.4007]], dtype=torch.float64, requires_grad=True)\n",
            "4.2 \n",
            " tensor([4.1999], dtype=torch.float64, requires_grad=True)\n"
          ],
          "name": "stdout"
        }
      ]
    }
  ]
}