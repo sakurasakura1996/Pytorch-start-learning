{
  "nbformat": 4,
  "nbformat_minor": 0,
  "metadata": {
    "kernelspec": {
      "display_name": "Python 3",
      "language": "python",
      "name": "python3"
    },
    "language_info": {
      "codemirror_mode": {
        "name": "ipython",
        "version": 3
      },
      "file_extension": ".py",
      "mimetype": "text/x-python",
      "name": "python",
      "nbconvert_exporter": "python",
      "pygments_lexer": "ipython3",
      "version": "3.7.2"
    },
    "colab": {
      "name": "Dive-into-DL-pytorch-4.4-自定义层.ipynb",
      "provenance": [],
      "include_colab_link": true
    }
  },
  "cells": [
    {
      "cell_type": "markdown",
      "metadata": {
        "id": "view-in-github",
        "colab_type": "text"
      },
      "source": [
        "<a href=\"https://colab.research.google.com/github/sakurasakura1996/Pytorch-start-learning/blob/master/Dive_into_DL_pytorch_4_4_%E8%87%AA%E5%AE%9A%E4%B9%89%E5%B1%82.ipynb\" target=\"_parent\"><img src=\"https://colab.research.google.com/assets/colab-badge.svg\" alt=\"Open In Colab\"/></a>"
      ]
    },
    {
      "cell_type": "code",
      "metadata": {
        "id": "YqrARUmwWYpR",
        "colab_type": "code",
        "colab": {}
      },
      "source": [
        "# 深度学习的一个魅力在于神经网络中各式各样的层，例如全连接层和后面章节中将要介绍的卷积层、池化层、与循环层\n",
        "# 虽然Pytorch提供了大量常用的层，但有时候我们依然希望自定义层。本节将介绍如何使用Module来自定义层，从而可以被重复调用\n",
        "# ￥ 4.4.1 不含模型参数的自定义层\n",
        "# 下面自定义的层继承Module类 定义了一个将输入减掉均值后输出的层，并将层的计算定义在了forward函数里。这个层里不包含模型参数\n",
        "import torch\n",
        "from torch import nn\n",
        "\n",
        "class CenteredLayer(nn.Module):\n",
        "    def __init__(self, **kwargs):\n",
        "        super(CenteredLayer,self).__init__(**kwargs)\n",
        "    def forward(self, x):\n",
        "        return x - x.mean()"
      ],
      "execution_count": 0,
      "outputs": []
    },
    {
      "cell_type": "code",
      "metadata": {
        "id": "rnDDTFn9WYpW",
        "colab_type": "code",
        "colab": {},
        "outputId": "a4cb7f22-8102-4790-9800-d69b842d8835"
      },
      "source": [
        "layer = CenteredLayer()\n",
        "layer(torch.tensor([1, 2, 3, 4, 5], dtype=torch.float))"
      ],
      "execution_count": 0,
      "outputs": [
        {
          "output_type": "execute_result",
          "data": {
            "text/plain": [
              "tensor([-2., -1.,  0.,  1.,  2.])"
            ]
          },
          "metadata": {
            "tags": []
          },
          "execution_count": 2
        }
      ]
    },
    {
      "cell_type": "code",
      "metadata": {
        "id": "ABmjDonUWYpc",
        "colab_type": "code",
        "colab": {},
        "outputId": "40148c94-b8da-482f-e798-e9eadcd00b8d"
      },
      "source": [
        "# 还可以同他来构造更复杂的模型\n",
        "net = nn.Sequential(nn.Linear(8,128),layer)\n",
        "print(net)\n",
        "y = net(torch.rand(4,8))\n",
        "print(y.size())\n",
        "print(y.mean())\n",
        "print(y.mean().item())"
      ],
      "execution_count": 0,
      "outputs": [
        {
          "output_type": "stream",
          "text": [
            "Sequential(\n",
            "  (0): Linear(in_features=8, out_features=128, bias=True)\n",
            "  (1): CenteredLayer()\n",
            ")\n",
            "torch.Size([4, 128])\n",
            "tensor(-4.6566e-09, grad_fn=<MeanBackward0>)\n",
            "-4.6566128730773926e-09\n"
          ],
          "name": "stdout"
        }
      ]
    },
    {
      "cell_type": "code",
      "metadata": {
        "id": "1en93BFLWYpj",
        "colab_type": "code",
        "colab": {},
        "outputId": "73dd35a8-71cb-4c97-a52d-c04208383a5c"
      },
      "source": [
        "# 4.4.2 含模型参数的自定义层\n",
        "# 不含模型参数的自定义层可以在forward中定义，含模型参数的自定义层可以通过训练学出，这叫要在\n",
        "# 初始化时就定义了。 4.2节中介绍了Parameter类其实是Tensor的子类。如果一个Tensor是Parameter，那么它会被自动添加到参数\n",
        "# 列表中去。所以在自定义含模型参数的层时，我们应该将参数定义成Parameter，除了像4.2.1直接定义成parameter类外，还可以使用\n",
        "# ParameterList和ParameterDict分别定义参数的列表和字典\n",
        "class MyDense(nn.Module):\n",
        "    def __init__(self):\n",
        "        super(MyDense, self).__init__()\n",
        "        self.params = nn.ParameterList([nn.Parameter(torch.rand(4,4)) for i in range(3)])\n",
        "        self.params.append(nn.Parameter(torch.randn(4,1)))\n",
        "    \n",
        "    def forward(self, x):\n",
        "        for i in range(len(self.params)):\n",
        "            x = torch.mm(x, self.params[i])\n",
        "        return x\n",
        "\n",
        "net = MyDense()\n",
        "print(net)"
      ],
      "execution_count": 0,
      "outputs": [
        {
          "output_type": "stream",
          "text": [
            "MyDense(\n",
            "  (params): ParameterList(\n",
            "      (0): Parameter containing: [torch.FloatTensor of size 4x4]\n",
            "      (1): Parameter containing: [torch.FloatTensor of size 4x4]\n",
            "      (2): Parameter containing: [torch.FloatTensor of size 4x4]\n",
            "      (3): Parameter containing: [torch.FloatTensor of size 4x1]\n",
            "  )\n",
            ")\n"
          ],
          "name": "stdout"
        }
      ]
    },
    {
      "cell_type": "code",
      "metadata": {
        "id": "7BvTKi8LWYp7",
        "colab_type": "code",
        "colab": {},
        "outputId": "d0f97f7d-6b7a-40a0-e837-f42da93d4e13"
      },
      "source": [
        "# 而 ParameterDict 接受一个 Parameter实例的字典作为输入然后得到一个参数字典，然后可以按照字典的规则使用了。例如使用 update()新增参数，使用keys()返回所有\n",
        "# 键值，使用items()返回所有键值对等等。\n",
        "class MyDictDense(nn.Module):\n",
        "    def __init__(self):\n",
        "        super(MyDictDense, self).__init__()\n",
        "        self.params = nn.ParameterDict({\n",
        "            'linear1':nn.Parameter(torch.rand(4,4)),\n",
        "            'linear2':nn.Parameter(torch.rand(4,4)),\n",
        "        })\n",
        "        self.params.update({\n",
        "            'linear3':nn.Parameter(torch.rand(4,1))\n",
        "        })\n",
        "        \n",
        "    def forward(self,x):\n",
        "#         for key in self.params.keys():\n",
        "#             x = torch.mm(x, self.params[key])  这两种都可以啦\n",
        "        for key, value in self.params.items():\n",
        "            x = torch.mm(x, self.params[key])\n",
        "        return x\n",
        "    \n",
        "#     def forward(self, x, choice='linear1'):\n",
        "#         # 这里是原书中的前向传播代码，这里更灵活一些，因为整个网络中的结构，我们不一定非要经过整个网络，而可以选择性的通过网络部分\n",
        "#         return torch.mm(x,self.params[choice])\n",
        "\n",
        "net = MyDictDense()\n",
        "print(net)\n",
        "x = torch.rand(1,4)\n",
        "print(net(x))\n",
        "# print(net(x, 'linear3'))"
      ],
      "execution_count": 0,
      "outputs": [
        {
          "output_type": "stream",
          "text": [
            "MyDictDense(\n",
            "  (params): ParameterDict(\n",
            "      (linear1): Parameter containing: [torch.FloatTensor of size 4x4]\n",
            "      (linear2): Parameter containing: [torch.FloatTensor of size 4x4]\n",
            "      (linear3): Parameter containing: [torch.FloatTensor of size 4x1]\n",
            "  )\n",
            ")\n",
            "tensor([[2.4291]], grad_fn=<MmBackward>)\n"
          ],
          "name": "stdout"
        }
      ]
    },
    {
      "cell_type": "code",
      "metadata": {
        "id": "36n2C0xkWYqF",
        "colab_type": "code",
        "colab": {},
        "outputId": "5cfd8f88-f940-459f-829d-315a4401dbc5"
      },
      "source": [
        "# 我们也可以使用自定义层构造模型，它和pytorch 的其他层在使用上很类似\n",
        "net = nn.Sequential(\n",
        "    MyDictDense(),\n",
        "    MyDense(),\n",
        ")\n",
        "print(net)\n"
      ],
      "execution_count": 0,
      "outputs": [
        {
          "output_type": "stream",
          "text": [
            "Sequential(\n",
            "  (0): MyDictDense(\n",
            "    (params): ParameterDict(\n",
            "        (linear1): Parameter containing: [torch.FloatTensor of size 4x4]\n",
            "        (linear2): Parameter containing: [torch.FloatTensor of size 4x4]\n",
            "        (linear3): Parameter containing: [torch.FloatTensor of size 4x1]\n",
            "    )\n",
            "  )\n",
            "  (1): MyDense(\n",
            "    (params): ParameterList(\n",
            "        (0): Parameter containing: [torch.FloatTensor of size 4x4]\n",
            "        (1): Parameter containing: [torch.FloatTensor of size 4x4]\n",
            "        (2): Parameter containing: [torch.FloatTensor of size 4x4]\n",
            "        (3): Parameter containing: [torch.FloatTensor of size 4x1]\n",
            "    )\n",
            "  )\n",
            ")\n"
          ],
          "name": "stdout"
        }
      ]
    },
    {
      "cell_type": "code",
      "metadata": {
        "id": "rrPq7fAUWYqP",
        "colab_type": "code",
        "colab": {}
      },
      "source": [
        ""
      ],
      "execution_count": 0,
      "outputs": []
    }
  ]
}