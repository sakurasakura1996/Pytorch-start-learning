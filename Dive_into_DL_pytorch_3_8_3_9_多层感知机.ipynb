{
  "nbformat": 4,
  "nbformat_minor": 0,
  "metadata": {
    "colab": {
      "name": "Dive-into-DL-pytorch-3.8-3.9-多层感知机.ipynb",
      "provenance": [],
      "mount_file_id": "1An5rVbsTo4BrL1qnriqx_V32WBTxGHMc",
      "authorship_tag": "ABX9TyMyvIQcM/4ZqdOeT/588V6H",
      "include_colab_link": true
    },
    "kernelspec": {
      "name": "python3",
      "display_name": "Python 3"
    },
    "widgets": {
      "application/vnd.jupyter.widget-state+json": {
        "a661aac44a6f45128fe4ecb003806303": {
          "model_module": "@jupyter-widgets/controls",
          "model_name": "HBoxModel",
          "state": {
            "_view_name": "HBoxView",
            "_dom_classes": [],
            "_model_name": "HBoxModel",
            "_view_module": "@jupyter-widgets/controls",
            "_model_module_version": "1.5.0",
            "_view_count": null,
            "_view_module_version": "1.5.0",
            "box_style": "",
            "layout": "IPY_MODEL_b6a227b1ae2240e2b8e7ca7733562b3a",
            "_model_module": "@jupyter-widgets/controls",
            "children": [
              "IPY_MODEL_90bdc8360abb480ebc5ef9f5d9752d31",
              "IPY_MODEL_0715bc17cd0746088e580369abb18300"
            ]
          }
        },
        "b6a227b1ae2240e2b8e7ca7733562b3a": {
          "model_module": "@jupyter-widgets/base",
          "model_name": "LayoutModel",
          "state": {
            "_view_name": "LayoutView",
            "grid_template_rows": null,
            "right": null,
            "justify_content": null,
            "_view_module": "@jupyter-widgets/base",
            "overflow": null,
            "_model_module_version": "1.2.0",
            "_view_count": null,
            "flex_flow": null,
            "width": null,
            "min_width": null,
            "border": null,
            "align_items": null,
            "bottom": null,
            "_model_module": "@jupyter-widgets/base",
            "top": null,
            "grid_column": null,
            "overflow_y": null,
            "overflow_x": null,
            "grid_auto_flow": null,
            "grid_area": null,
            "grid_template_columns": null,
            "flex": null,
            "_model_name": "LayoutModel",
            "justify_items": null,
            "grid_row": null,
            "max_height": null,
            "align_content": null,
            "visibility": null,
            "align_self": null,
            "height": null,
            "min_height": null,
            "padding": null,
            "grid_auto_rows": null,
            "grid_gap": null,
            "max_width": null,
            "order": null,
            "_view_module_version": "1.2.0",
            "grid_template_areas": null,
            "object_position": null,
            "object_fit": null,
            "grid_auto_columns": null,
            "margin": null,
            "display": null,
            "left": null
          }
        },
        "90bdc8360abb480ebc5ef9f5d9752d31": {
          "model_module": "@jupyter-widgets/controls",
          "model_name": "IntProgressModel",
          "state": {
            "_view_name": "ProgressView",
            "style": "IPY_MODEL_e8596634440b443e8cedace9988763ea",
            "_dom_classes": [],
            "description": "",
            "_model_name": "IntProgressModel",
            "bar_style": "success",
            "max": 1,
            "_view_module": "@jupyter-widgets/controls",
            "_model_module_version": "1.5.0",
            "value": 1,
            "_view_count": null,
            "_view_module_version": "1.5.0",
            "orientation": "horizontal",
            "min": 0,
            "description_tooltip": null,
            "_model_module": "@jupyter-widgets/controls",
            "layout": "IPY_MODEL_9083a91d5752455ba720ca04d803b0b6"
          }
        },
        "0715bc17cd0746088e580369abb18300": {
          "model_module": "@jupyter-widgets/controls",
          "model_name": "HTMLModel",
          "state": {
            "_view_name": "HTMLView",
            "style": "IPY_MODEL_2dd40eea70d844d98fc2e52ae584dd48",
            "_dom_classes": [],
            "description": "",
            "_model_name": "HTMLModel",
            "placeholder": "​",
            "_view_module": "@jupyter-widgets/controls",
            "_model_module_version": "1.5.0",
            "value": "26427392it [00:01, 13653681.17it/s]",
            "_view_count": null,
            "_view_module_version": "1.5.0",
            "description_tooltip": null,
            "_model_module": "@jupyter-widgets/controls",
            "layout": "IPY_MODEL_97627613abb444ddb71ebcad73821217"
          }
        },
        "e8596634440b443e8cedace9988763ea": {
          "model_module": "@jupyter-widgets/controls",
          "model_name": "ProgressStyleModel",
          "state": {
            "_view_name": "StyleView",
            "_model_name": "ProgressStyleModel",
            "description_width": "",
            "_view_module": "@jupyter-widgets/base",
            "_model_module_version": "1.5.0",
            "_view_count": null,
            "_view_module_version": "1.2.0",
            "bar_color": null,
            "_model_module": "@jupyter-widgets/controls"
          }
        },
        "9083a91d5752455ba720ca04d803b0b6": {
          "model_module": "@jupyter-widgets/base",
          "model_name": "LayoutModel",
          "state": {
            "_view_name": "LayoutView",
            "grid_template_rows": null,
            "right": null,
            "justify_content": null,
            "_view_module": "@jupyter-widgets/base",
            "overflow": null,
            "_model_module_version": "1.2.0",
            "_view_count": null,
            "flex_flow": null,
            "width": null,
            "min_width": null,
            "border": null,
            "align_items": null,
            "bottom": null,
            "_model_module": "@jupyter-widgets/base",
            "top": null,
            "grid_column": null,
            "overflow_y": null,
            "overflow_x": null,
            "grid_auto_flow": null,
            "grid_area": null,
            "grid_template_columns": null,
            "flex": null,
            "_model_name": "LayoutModel",
            "justify_items": null,
            "grid_row": null,
            "max_height": null,
            "align_content": null,
            "visibility": null,
            "align_self": null,
            "height": null,
            "min_height": null,
            "padding": null,
            "grid_auto_rows": null,
            "grid_gap": null,
            "max_width": null,
            "order": null,
            "_view_module_version": "1.2.0",
            "grid_template_areas": null,
            "object_position": null,
            "object_fit": null,
            "grid_auto_columns": null,
            "margin": null,
            "display": null,
            "left": null
          }
        },
        "2dd40eea70d844d98fc2e52ae584dd48": {
          "model_module": "@jupyter-widgets/controls",
          "model_name": "DescriptionStyleModel",
          "state": {
            "_view_name": "StyleView",
            "_model_name": "DescriptionStyleModel",
            "description_width": "",
            "_view_module": "@jupyter-widgets/base",
            "_model_module_version": "1.5.0",
            "_view_count": null,
            "_view_module_version": "1.2.0",
            "_model_module": "@jupyter-widgets/controls"
          }
        },
        "97627613abb444ddb71ebcad73821217": {
          "model_module": "@jupyter-widgets/base",
          "model_name": "LayoutModel",
          "state": {
            "_view_name": "LayoutView",
            "grid_template_rows": null,
            "right": null,
            "justify_content": null,
            "_view_module": "@jupyter-widgets/base",
            "overflow": null,
            "_model_module_version": "1.2.0",
            "_view_count": null,
            "flex_flow": null,
            "width": null,
            "min_width": null,
            "border": null,
            "align_items": null,
            "bottom": null,
            "_model_module": "@jupyter-widgets/base",
            "top": null,
            "grid_column": null,
            "overflow_y": null,
            "overflow_x": null,
            "grid_auto_flow": null,
            "grid_area": null,
            "grid_template_columns": null,
            "flex": null,
            "_model_name": "LayoutModel",
            "justify_items": null,
            "grid_row": null,
            "max_height": null,
            "align_content": null,
            "visibility": null,
            "align_self": null,
            "height": null,
            "min_height": null,
            "padding": null,
            "grid_auto_rows": null,
            "grid_gap": null,
            "max_width": null,
            "order": null,
            "_view_module_version": "1.2.0",
            "grid_template_areas": null,
            "object_position": null,
            "object_fit": null,
            "grid_auto_columns": null,
            "margin": null,
            "display": null,
            "left": null
          }
        },
        "ec8757b8d76b4442ad82a9b99172d82a": {
          "model_module": "@jupyter-widgets/controls",
          "model_name": "HBoxModel",
          "state": {
            "_view_name": "HBoxView",
            "_dom_classes": [],
            "_model_name": "HBoxModel",
            "_view_module": "@jupyter-widgets/controls",
            "_model_module_version": "1.5.0",
            "_view_count": null,
            "_view_module_version": "1.5.0",
            "box_style": "",
            "layout": "IPY_MODEL_55bc74ee1dfd4656bd123093e49dbf8a",
            "_model_module": "@jupyter-widgets/controls",
            "children": [
              "IPY_MODEL_e569bf63a25046768bc7cf9330d7e93d",
              "IPY_MODEL_6ecd5fc42259472baaad8c9a63b0dfaa"
            ]
          }
        },
        "55bc74ee1dfd4656bd123093e49dbf8a": {
          "model_module": "@jupyter-widgets/base",
          "model_name": "LayoutModel",
          "state": {
            "_view_name": "LayoutView",
            "grid_template_rows": null,
            "right": null,
            "justify_content": null,
            "_view_module": "@jupyter-widgets/base",
            "overflow": null,
            "_model_module_version": "1.2.0",
            "_view_count": null,
            "flex_flow": null,
            "width": null,
            "min_width": null,
            "border": null,
            "align_items": null,
            "bottom": null,
            "_model_module": "@jupyter-widgets/base",
            "top": null,
            "grid_column": null,
            "overflow_y": null,
            "overflow_x": null,
            "grid_auto_flow": null,
            "grid_area": null,
            "grid_template_columns": null,
            "flex": null,
            "_model_name": "LayoutModel",
            "justify_items": null,
            "grid_row": null,
            "max_height": null,
            "align_content": null,
            "visibility": null,
            "align_self": null,
            "height": null,
            "min_height": null,
            "padding": null,
            "grid_auto_rows": null,
            "grid_gap": null,
            "max_width": null,
            "order": null,
            "_view_module_version": "1.2.0",
            "grid_template_areas": null,
            "object_position": null,
            "object_fit": null,
            "grid_auto_columns": null,
            "margin": null,
            "display": null,
            "left": null
          }
        },
        "e569bf63a25046768bc7cf9330d7e93d": {
          "model_module": "@jupyter-widgets/controls",
          "model_name": "IntProgressModel",
          "state": {
            "_view_name": "ProgressView",
            "style": "IPY_MODEL_707a2492c71e4fceb446d55a27da413a",
            "_dom_classes": [],
            "description": "",
            "_model_name": "IntProgressModel",
            "bar_style": "success",
            "max": 1,
            "_view_module": "@jupyter-widgets/controls",
            "_model_module_version": "1.5.0",
            "value": 1,
            "_view_count": null,
            "_view_module_version": "1.5.0",
            "orientation": "horizontal",
            "min": 0,
            "description_tooltip": null,
            "_model_module": "@jupyter-widgets/controls",
            "layout": "IPY_MODEL_c3b39832ec9f4eb099f91247b8f69c86"
          }
        },
        "6ecd5fc42259472baaad8c9a63b0dfaa": {
          "model_module": "@jupyter-widgets/controls",
          "model_name": "HTMLModel",
          "state": {
            "_view_name": "HTMLView",
            "style": "IPY_MODEL_3a2fda6a0e9a4b50b6f8b507036ff3b8",
            "_dom_classes": [],
            "description": "",
            "_model_name": "HTMLModel",
            "placeholder": "​",
            "_view_module": "@jupyter-widgets/controls",
            "_model_module_version": "1.5.0",
            "value": "32768it [00:00, 93608.03it/s]",
            "_view_count": null,
            "_view_module_version": "1.5.0",
            "description_tooltip": null,
            "_model_module": "@jupyter-widgets/controls",
            "layout": "IPY_MODEL_543449ea196d44868cef03e8f344c999"
          }
        },
        "707a2492c71e4fceb446d55a27da413a": {
          "model_module": "@jupyter-widgets/controls",
          "model_name": "ProgressStyleModel",
          "state": {
            "_view_name": "StyleView",
            "_model_name": "ProgressStyleModel",
            "description_width": "",
            "_view_module": "@jupyter-widgets/base",
            "_model_module_version": "1.5.0",
            "_view_count": null,
            "_view_module_version": "1.2.0",
            "bar_color": null,
            "_model_module": "@jupyter-widgets/controls"
          }
        },
        "c3b39832ec9f4eb099f91247b8f69c86": {
          "model_module": "@jupyter-widgets/base",
          "model_name": "LayoutModel",
          "state": {
            "_view_name": "LayoutView",
            "grid_template_rows": null,
            "right": null,
            "justify_content": null,
            "_view_module": "@jupyter-widgets/base",
            "overflow": null,
            "_model_module_version": "1.2.0",
            "_view_count": null,
            "flex_flow": null,
            "width": null,
            "min_width": null,
            "border": null,
            "align_items": null,
            "bottom": null,
            "_model_module": "@jupyter-widgets/base",
            "top": null,
            "grid_column": null,
            "overflow_y": null,
            "overflow_x": null,
            "grid_auto_flow": null,
            "grid_area": null,
            "grid_template_columns": null,
            "flex": null,
            "_model_name": "LayoutModel",
            "justify_items": null,
            "grid_row": null,
            "max_height": null,
            "align_content": null,
            "visibility": null,
            "align_self": null,
            "height": null,
            "min_height": null,
            "padding": null,
            "grid_auto_rows": null,
            "grid_gap": null,
            "max_width": null,
            "order": null,
            "_view_module_version": "1.2.0",
            "grid_template_areas": null,
            "object_position": null,
            "object_fit": null,
            "grid_auto_columns": null,
            "margin": null,
            "display": null,
            "left": null
          }
        },
        "3a2fda6a0e9a4b50b6f8b507036ff3b8": {
          "model_module": "@jupyter-widgets/controls",
          "model_name": "DescriptionStyleModel",
          "state": {
            "_view_name": "StyleView",
            "_model_name": "DescriptionStyleModel",
            "description_width": "",
            "_view_module": "@jupyter-widgets/base",
            "_model_module_version": "1.5.0",
            "_view_count": null,
            "_view_module_version": "1.2.0",
            "_model_module": "@jupyter-widgets/controls"
          }
        },
        "543449ea196d44868cef03e8f344c999": {
          "model_module": "@jupyter-widgets/base",
          "model_name": "LayoutModel",
          "state": {
            "_view_name": "LayoutView",
            "grid_template_rows": null,
            "right": null,
            "justify_content": null,
            "_view_module": "@jupyter-widgets/base",
            "overflow": null,
            "_model_module_version": "1.2.0",
            "_view_count": null,
            "flex_flow": null,
            "width": null,
            "min_width": null,
            "border": null,
            "align_items": null,
            "bottom": null,
            "_model_module": "@jupyter-widgets/base",
            "top": null,
            "grid_column": null,
            "overflow_y": null,
            "overflow_x": null,
            "grid_auto_flow": null,
            "grid_area": null,
            "grid_template_columns": null,
            "flex": null,
            "_model_name": "LayoutModel",
            "justify_items": null,
            "grid_row": null,
            "max_height": null,
            "align_content": null,
            "visibility": null,
            "align_self": null,
            "height": null,
            "min_height": null,
            "padding": null,
            "grid_auto_rows": null,
            "grid_gap": null,
            "max_width": null,
            "order": null,
            "_view_module_version": "1.2.0",
            "grid_template_areas": null,
            "object_position": null,
            "object_fit": null,
            "grid_auto_columns": null,
            "margin": null,
            "display": null,
            "left": null
          }
        },
        "bcf005beec2646c6847411d65a08e69c": {
          "model_module": "@jupyter-widgets/controls",
          "model_name": "HBoxModel",
          "state": {
            "_view_name": "HBoxView",
            "_dom_classes": [],
            "_model_name": "HBoxModel",
            "_view_module": "@jupyter-widgets/controls",
            "_model_module_version": "1.5.0",
            "_view_count": null,
            "_view_module_version": "1.5.0",
            "box_style": "",
            "layout": "IPY_MODEL_35c3abe7792b46e2b2f1b56174f15612",
            "_model_module": "@jupyter-widgets/controls",
            "children": [
              "IPY_MODEL_9bf86573336a46e3a0b159c6275b43b2",
              "IPY_MODEL_b3e3d965ce8347d5b596e872d0f80ce2"
            ]
          }
        },
        "35c3abe7792b46e2b2f1b56174f15612": {
          "model_module": "@jupyter-widgets/base",
          "model_name": "LayoutModel",
          "state": {
            "_view_name": "LayoutView",
            "grid_template_rows": null,
            "right": null,
            "justify_content": null,
            "_view_module": "@jupyter-widgets/base",
            "overflow": null,
            "_model_module_version": "1.2.0",
            "_view_count": null,
            "flex_flow": null,
            "width": null,
            "min_width": null,
            "border": null,
            "align_items": null,
            "bottom": null,
            "_model_module": "@jupyter-widgets/base",
            "top": null,
            "grid_column": null,
            "overflow_y": null,
            "overflow_x": null,
            "grid_auto_flow": null,
            "grid_area": null,
            "grid_template_columns": null,
            "flex": null,
            "_model_name": "LayoutModel",
            "justify_items": null,
            "grid_row": null,
            "max_height": null,
            "align_content": null,
            "visibility": null,
            "align_self": null,
            "height": null,
            "min_height": null,
            "padding": null,
            "grid_auto_rows": null,
            "grid_gap": null,
            "max_width": null,
            "order": null,
            "_view_module_version": "1.2.0",
            "grid_template_areas": null,
            "object_position": null,
            "object_fit": null,
            "grid_auto_columns": null,
            "margin": null,
            "display": null,
            "left": null
          }
        },
        "9bf86573336a46e3a0b159c6275b43b2": {
          "model_module": "@jupyter-widgets/controls",
          "model_name": "IntProgressModel",
          "state": {
            "_view_name": "ProgressView",
            "style": "IPY_MODEL_cea53e9a63c64a1eb4c099cb9295cc30",
            "_dom_classes": [],
            "description": "",
            "_model_name": "IntProgressModel",
            "bar_style": "success",
            "max": 1,
            "_view_module": "@jupyter-widgets/controls",
            "_model_module_version": "1.5.0",
            "value": 1,
            "_view_count": null,
            "_view_module_version": "1.5.0",
            "orientation": "horizontal",
            "min": 0,
            "description_tooltip": null,
            "_model_module": "@jupyter-widgets/controls",
            "layout": "IPY_MODEL_3e823a535dba43739ae5a78b33f60226"
          }
        },
        "b3e3d965ce8347d5b596e872d0f80ce2": {
          "model_module": "@jupyter-widgets/controls",
          "model_name": "HTMLModel",
          "state": {
            "_view_name": "HTMLView",
            "style": "IPY_MODEL_c5db19fe6838429e93c9cf58b15c1ebb",
            "_dom_classes": [],
            "description": "",
            "_model_name": "HTMLModel",
            "placeholder": "​",
            "_view_module": "@jupyter-widgets/controls",
            "_model_module_version": "1.5.0",
            "value": "4423680it [00:01, 4179300.32it/s]",
            "_view_count": null,
            "_view_module_version": "1.5.0",
            "description_tooltip": null,
            "_model_module": "@jupyter-widgets/controls",
            "layout": "IPY_MODEL_eef51faf41e240829398395d97b6651c"
          }
        },
        "cea53e9a63c64a1eb4c099cb9295cc30": {
          "model_module": "@jupyter-widgets/controls",
          "model_name": "ProgressStyleModel",
          "state": {
            "_view_name": "StyleView",
            "_model_name": "ProgressStyleModel",
            "description_width": "",
            "_view_module": "@jupyter-widgets/base",
            "_model_module_version": "1.5.0",
            "_view_count": null,
            "_view_module_version": "1.2.0",
            "bar_color": null,
            "_model_module": "@jupyter-widgets/controls"
          }
        },
        "3e823a535dba43739ae5a78b33f60226": {
          "model_module": "@jupyter-widgets/base",
          "model_name": "LayoutModel",
          "state": {
            "_view_name": "LayoutView",
            "grid_template_rows": null,
            "right": null,
            "justify_content": null,
            "_view_module": "@jupyter-widgets/base",
            "overflow": null,
            "_model_module_version": "1.2.0",
            "_view_count": null,
            "flex_flow": null,
            "width": null,
            "min_width": null,
            "border": null,
            "align_items": null,
            "bottom": null,
            "_model_module": "@jupyter-widgets/base",
            "top": null,
            "grid_column": null,
            "overflow_y": null,
            "overflow_x": null,
            "grid_auto_flow": null,
            "grid_area": null,
            "grid_template_columns": null,
            "flex": null,
            "_model_name": "LayoutModel",
            "justify_items": null,
            "grid_row": null,
            "max_height": null,
            "align_content": null,
            "visibility": null,
            "align_self": null,
            "height": null,
            "min_height": null,
            "padding": null,
            "grid_auto_rows": null,
            "grid_gap": null,
            "max_width": null,
            "order": null,
            "_view_module_version": "1.2.0",
            "grid_template_areas": null,
            "object_position": null,
            "object_fit": null,
            "grid_auto_columns": null,
            "margin": null,
            "display": null,
            "left": null
          }
        },
        "c5db19fe6838429e93c9cf58b15c1ebb": {
          "model_module": "@jupyter-widgets/controls",
          "model_name": "DescriptionStyleModel",
          "state": {
            "_view_name": "StyleView",
            "_model_name": "DescriptionStyleModel",
            "description_width": "",
            "_view_module": "@jupyter-widgets/base",
            "_model_module_version": "1.5.0",
            "_view_count": null,
            "_view_module_version": "1.2.0",
            "_model_module": "@jupyter-widgets/controls"
          }
        },
        "eef51faf41e240829398395d97b6651c": {
          "model_module": "@jupyter-widgets/base",
          "model_name": "LayoutModel",
          "state": {
            "_view_name": "LayoutView",
            "grid_template_rows": null,
            "right": null,
            "justify_content": null,
            "_view_module": "@jupyter-widgets/base",
            "overflow": null,
            "_model_module_version": "1.2.0",
            "_view_count": null,
            "flex_flow": null,
            "width": null,
            "min_width": null,
            "border": null,
            "align_items": null,
            "bottom": null,
            "_model_module": "@jupyter-widgets/base",
            "top": null,
            "grid_column": null,
            "overflow_y": null,
            "overflow_x": null,
            "grid_auto_flow": null,
            "grid_area": null,
            "grid_template_columns": null,
            "flex": null,
            "_model_name": "LayoutModel",
            "justify_items": null,
            "grid_row": null,
            "max_height": null,
            "align_content": null,
            "visibility": null,
            "align_self": null,
            "height": null,
            "min_height": null,
            "padding": null,
            "grid_auto_rows": null,
            "grid_gap": null,
            "max_width": null,
            "order": null,
            "_view_module_version": "1.2.0",
            "grid_template_areas": null,
            "object_position": null,
            "object_fit": null,
            "grid_auto_columns": null,
            "margin": null,
            "display": null,
            "left": null
          }
        },
        "c65049c583d04f889b888910bc306151": {
          "model_module": "@jupyter-widgets/controls",
          "model_name": "HBoxModel",
          "state": {
            "_view_name": "HBoxView",
            "_dom_classes": [],
            "_model_name": "HBoxModel",
            "_view_module": "@jupyter-widgets/controls",
            "_model_module_version": "1.5.0",
            "_view_count": null,
            "_view_module_version": "1.5.0",
            "box_style": "",
            "layout": "IPY_MODEL_708de7d8182d488dbd1e548ded88ce68",
            "_model_module": "@jupyter-widgets/controls",
            "children": [
              "IPY_MODEL_cd496407c8f547d38f6e87a70f31e6fc",
              "IPY_MODEL_5cefdcd26b244b54b1f28af0fdce8eed"
            ]
          }
        },
        "708de7d8182d488dbd1e548ded88ce68": {
          "model_module": "@jupyter-widgets/base",
          "model_name": "LayoutModel",
          "state": {
            "_view_name": "LayoutView",
            "grid_template_rows": null,
            "right": null,
            "justify_content": null,
            "_view_module": "@jupyter-widgets/base",
            "overflow": null,
            "_model_module_version": "1.2.0",
            "_view_count": null,
            "flex_flow": null,
            "width": null,
            "min_width": null,
            "border": null,
            "align_items": null,
            "bottom": null,
            "_model_module": "@jupyter-widgets/base",
            "top": null,
            "grid_column": null,
            "overflow_y": null,
            "overflow_x": null,
            "grid_auto_flow": null,
            "grid_area": null,
            "grid_template_columns": null,
            "flex": null,
            "_model_name": "LayoutModel",
            "justify_items": null,
            "grid_row": null,
            "max_height": null,
            "align_content": null,
            "visibility": null,
            "align_self": null,
            "height": null,
            "min_height": null,
            "padding": null,
            "grid_auto_rows": null,
            "grid_gap": null,
            "max_width": null,
            "order": null,
            "_view_module_version": "1.2.0",
            "grid_template_areas": null,
            "object_position": null,
            "object_fit": null,
            "grid_auto_columns": null,
            "margin": null,
            "display": null,
            "left": null
          }
        },
        "cd496407c8f547d38f6e87a70f31e6fc": {
          "model_module": "@jupyter-widgets/controls",
          "model_name": "IntProgressModel",
          "state": {
            "_view_name": "ProgressView",
            "style": "IPY_MODEL_a0e8522c12934929bdc22949325228d2",
            "_dom_classes": [],
            "description": "",
            "_model_name": "IntProgressModel",
            "bar_style": "success",
            "max": 1,
            "_view_module": "@jupyter-widgets/controls",
            "_model_module_version": "1.5.0",
            "value": 1,
            "_view_count": null,
            "_view_module_version": "1.5.0",
            "orientation": "horizontal",
            "min": 0,
            "description_tooltip": null,
            "_model_module": "@jupyter-widgets/controls",
            "layout": "IPY_MODEL_0825ad1e3cdc4690ba1186577ace8054"
          }
        },
        "5cefdcd26b244b54b1f28af0fdce8eed": {
          "model_module": "@jupyter-widgets/controls",
          "model_name": "HTMLModel",
          "state": {
            "_view_name": "HTMLView",
            "style": "IPY_MODEL_8ea48e6695e14245b2f44b0b9d4c3879",
            "_dom_classes": [],
            "description": "",
            "_model_name": "HTMLModel",
            "placeholder": "​",
            "_view_module": "@jupyter-widgets/controls",
            "_model_module_version": "1.5.0",
            "value": "8192it [00:00, 26728.20it/s]",
            "_view_count": null,
            "_view_module_version": "1.5.0",
            "description_tooltip": null,
            "_model_module": "@jupyter-widgets/controls",
            "layout": "IPY_MODEL_6c64cb155f1b41b0844e102babe77bb4"
          }
        },
        "a0e8522c12934929bdc22949325228d2": {
          "model_module": "@jupyter-widgets/controls",
          "model_name": "ProgressStyleModel",
          "state": {
            "_view_name": "StyleView",
            "_model_name": "ProgressStyleModel",
            "description_width": "",
            "_view_module": "@jupyter-widgets/base",
            "_model_module_version": "1.5.0",
            "_view_count": null,
            "_view_module_version": "1.2.0",
            "bar_color": null,
            "_model_module": "@jupyter-widgets/controls"
          }
        },
        "0825ad1e3cdc4690ba1186577ace8054": {
          "model_module": "@jupyter-widgets/base",
          "model_name": "LayoutModel",
          "state": {
            "_view_name": "LayoutView",
            "grid_template_rows": null,
            "right": null,
            "justify_content": null,
            "_view_module": "@jupyter-widgets/base",
            "overflow": null,
            "_model_module_version": "1.2.0",
            "_view_count": null,
            "flex_flow": null,
            "width": null,
            "min_width": null,
            "border": null,
            "align_items": null,
            "bottom": null,
            "_model_module": "@jupyter-widgets/base",
            "top": null,
            "grid_column": null,
            "overflow_y": null,
            "overflow_x": null,
            "grid_auto_flow": null,
            "grid_area": null,
            "grid_template_columns": null,
            "flex": null,
            "_model_name": "LayoutModel",
            "justify_items": null,
            "grid_row": null,
            "max_height": null,
            "align_content": null,
            "visibility": null,
            "align_self": null,
            "height": null,
            "min_height": null,
            "padding": null,
            "grid_auto_rows": null,
            "grid_gap": null,
            "max_width": null,
            "order": null,
            "_view_module_version": "1.2.0",
            "grid_template_areas": null,
            "object_position": null,
            "object_fit": null,
            "grid_auto_columns": null,
            "margin": null,
            "display": null,
            "left": null
          }
        },
        "8ea48e6695e14245b2f44b0b9d4c3879": {
          "model_module": "@jupyter-widgets/controls",
          "model_name": "DescriptionStyleModel",
          "state": {
            "_view_name": "StyleView",
            "_model_name": "DescriptionStyleModel",
            "description_width": "",
            "_view_module": "@jupyter-widgets/base",
            "_model_module_version": "1.5.0",
            "_view_count": null,
            "_view_module_version": "1.2.0",
            "_model_module": "@jupyter-widgets/controls"
          }
        },
        "6c64cb155f1b41b0844e102babe77bb4": {
          "model_module": "@jupyter-widgets/base",
          "model_name": "LayoutModel",
          "state": {
            "_view_name": "LayoutView",
            "grid_template_rows": null,
            "right": null,
            "justify_content": null,
            "_view_module": "@jupyter-widgets/base",
            "overflow": null,
            "_model_module_version": "1.2.0",
            "_view_count": null,
            "flex_flow": null,
            "width": null,
            "min_width": null,
            "border": null,
            "align_items": null,
            "bottom": null,
            "_model_module": "@jupyter-widgets/base",
            "top": null,
            "grid_column": null,
            "overflow_y": null,
            "overflow_x": null,
            "grid_auto_flow": null,
            "grid_area": null,
            "grid_template_columns": null,
            "flex": null,
            "_model_name": "LayoutModel",
            "justify_items": null,
            "grid_row": null,
            "max_height": null,
            "align_content": null,
            "visibility": null,
            "align_self": null,
            "height": null,
            "min_height": null,
            "padding": null,
            "grid_auto_rows": null,
            "grid_gap": null,
            "max_width": null,
            "order": null,
            "_view_module_version": "1.2.0",
            "grid_template_areas": null,
            "object_position": null,
            "object_fit": null,
            "grid_auto_columns": null,
            "margin": null,
            "display": null,
            "left": null
          }
        }
      }
    }
  },
  "cells": [
    {
      "cell_type": "markdown",
      "metadata": {
        "id": "view-in-github",
        "colab_type": "text"
      },
      "source": [
        "<a href=\"https://colab.research.google.com/github/sakurasakura1996/Pytorch-start-learning/blob/master/Dive_into_DL_pytorch_3_8_3_9_%E5%A4%9A%E5%B1%82%E6%84%9F%E7%9F%A5%E6%9C%BA.ipynb\" target=\"_parent\"><img src=\"https://colab.research.google.com/assets/colab-badge.svg\" alt=\"Open In Colab\"/></a>"
      ]
    },
    {
      "cell_type": "code",
      "metadata": {
        "id": "XVhWlrehICRJ",
        "colab_type": "code",
        "colab": {}
      },
      "source": [
        "# 深度学习还是多层的神经网络，所以从多层感知机开始了解多层神经网络\n",
        "# MLP多层感知机 本质上全连接层只是对数据做仿射变换，多个仿射变换的叠加还是仿射变换。解决办法是引入一个非线性变换，被称为激活函数\n",
        "# relu   sigmod   tanh等等\n",
        "# MLP多层感知机就是含有至少一个隐藏层的由全连接层组成的神经网络，且每个隐藏层的输出通过激活函数进行变换。"
      ],
      "execution_count": 0,
      "outputs": []
    },
    {
      "cell_type": "code",
      "metadata": {
        "id": "mNOA8Fv2P06M",
        "colab_type": "code",
        "colab": {}
      },
      "source": [
        "# 3.9 多层感知机的从零开始实现\n",
        "import torch\n",
        "import numpy as np\n",
        "import torchvision\n",
        "import torchvision.transforms as transforms\n"
      ],
      "execution_count": 0,
      "outputs": []
    },
    {
      "cell_type": "code",
      "metadata": {
        "id": "2EGGL0GoQmp3",
        "colab_type": "code",
        "colab": {
          "base_uri": "https://localhost:8080/",
          "height": 411,
          "referenced_widgets": [
            "a661aac44a6f45128fe4ecb003806303",
            "b6a227b1ae2240e2b8e7ca7733562b3a",
            "90bdc8360abb480ebc5ef9f5d9752d31",
            "0715bc17cd0746088e580369abb18300",
            "e8596634440b443e8cedace9988763ea",
            "9083a91d5752455ba720ca04d803b0b6",
            "2dd40eea70d844d98fc2e52ae584dd48",
            "97627613abb444ddb71ebcad73821217",
            "ec8757b8d76b4442ad82a9b99172d82a",
            "55bc74ee1dfd4656bd123093e49dbf8a",
            "e569bf63a25046768bc7cf9330d7e93d",
            "6ecd5fc42259472baaad8c9a63b0dfaa",
            "707a2492c71e4fceb446d55a27da413a",
            "c3b39832ec9f4eb099f91247b8f69c86",
            "3a2fda6a0e9a4b50b6f8b507036ff3b8",
            "543449ea196d44868cef03e8f344c999",
            "bcf005beec2646c6847411d65a08e69c",
            "35c3abe7792b46e2b2f1b56174f15612",
            "9bf86573336a46e3a0b159c6275b43b2",
            "b3e3d965ce8347d5b596e872d0f80ce2",
            "cea53e9a63c64a1eb4c099cb9295cc30",
            "3e823a535dba43739ae5a78b33f60226",
            "c5db19fe6838429e93c9cf58b15c1ebb",
            "eef51faf41e240829398395d97b6651c",
            "c65049c583d04f889b888910bc306151",
            "708de7d8182d488dbd1e548ded88ce68",
            "cd496407c8f547d38f6e87a70f31e6fc",
            "5cefdcd26b244b54b1f28af0fdce8eed",
            "a0e8522c12934929bdc22949325228d2",
            "0825ad1e3cdc4690ba1186577ace8054",
            "8ea48e6695e14245b2f44b0b9d4c3879",
            "6c64cb155f1b41b0844e102babe77bb4"
          ]
        },
        "outputId": "ac339d0d-7744-4750-cfda-2b749b28af28"
      },
      "source": [
        "# 获取和读取数据\n",
        "# 这里继续使用之前的fashion-mnist数据集，我们将使用多层感知机多图像进行分类\n",
        "# 不妨再来记忆一下数据部分\n",
        "\n",
        "mnist_train = torchvision.datasets.FashionMNIST(root='~/Datasets/FashionMNIST',train=True,download=True,transform=transforms.ToTensor())\n",
        "mnist_test = torchvision.datasets.FashionMNIST(root='~/Datasets/FashionMNIST',train=False,download=True,transform=transforms.ToTensor())"
      ],
      "execution_count": 4,
      "outputs": [
        {
          "output_type": "stream",
          "text": [
            "Downloading http://fashion-mnist.s3-website.eu-central-1.amazonaws.com/train-images-idx3-ubyte.gz to /root/Datasets/FashionMNIST/FashionMNIST/raw/train-images-idx3-ubyte.gz\n"
          ],
          "name": "stdout"
        },
        {
          "output_type": "display_data",
          "data": {
            "application/vnd.jupyter.widget-view+json": {
              "model_id": "a661aac44a6f45128fe4ecb003806303",
              "version_minor": 0,
              "version_major": 2
            },
            "text/plain": [
              "HBox(children=(IntProgress(value=1, bar_style='info', max=1), HTML(value='')))"
            ]
          },
          "metadata": {
            "tags": []
          }
        },
        {
          "output_type": "stream",
          "text": [
            "\n",
            "Extracting /root/Datasets/FashionMNIST/FashionMNIST/raw/train-images-idx3-ubyte.gz to /root/Datasets/FashionMNIST/FashionMNIST/raw\n",
            "Downloading http://fashion-mnist.s3-website.eu-central-1.amazonaws.com/train-labels-idx1-ubyte.gz to /root/Datasets/FashionMNIST/FashionMNIST/raw/train-labels-idx1-ubyte.gz\n"
          ],
          "name": "stdout"
        },
        {
          "output_type": "display_data",
          "data": {
            "application/vnd.jupyter.widget-view+json": {
              "model_id": "ec8757b8d76b4442ad82a9b99172d82a",
              "version_minor": 0,
              "version_major": 2
            },
            "text/plain": [
              "HBox(children=(IntProgress(value=1, bar_style='info', max=1), HTML(value='')))"
            ]
          },
          "metadata": {
            "tags": []
          }
        },
        {
          "output_type": "stream",
          "text": [
            "\n",
            "Extracting /root/Datasets/FashionMNIST/FashionMNIST/raw/train-labels-idx1-ubyte.gz to /root/Datasets/FashionMNIST/FashionMNIST/raw\n",
            "Downloading http://fashion-mnist.s3-website.eu-central-1.amazonaws.com/t10k-images-idx3-ubyte.gz to /root/Datasets/FashionMNIST/FashionMNIST/raw/t10k-images-idx3-ubyte.gz\n"
          ],
          "name": "stdout"
        },
        {
          "output_type": "display_data",
          "data": {
            "application/vnd.jupyter.widget-view+json": {
              "model_id": "bcf005beec2646c6847411d65a08e69c",
              "version_minor": 0,
              "version_major": 2
            },
            "text/plain": [
              "HBox(children=(IntProgress(value=1, bar_style='info', max=1), HTML(value='')))"
            ]
          },
          "metadata": {
            "tags": []
          }
        },
        {
          "output_type": "stream",
          "text": [
            "\n",
            "Extracting /root/Datasets/FashionMNIST/FashionMNIST/raw/t10k-images-idx3-ubyte.gz to /root/Datasets/FashionMNIST/FashionMNIST/raw\n",
            "Downloading http://fashion-mnist.s3-website.eu-central-1.amazonaws.com/t10k-labels-idx1-ubyte.gz to /root/Datasets/FashionMNIST/FashionMNIST/raw/t10k-labels-idx1-ubyte.gz\n"
          ],
          "name": "stdout"
        },
        {
          "output_type": "display_data",
          "data": {
            "application/vnd.jupyter.widget-view+json": {
              "model_id": "c65049c583d04f889b888910bc306151",
              "version_minor": 0,
              "version_major": 2
            },
            "text/plain": [
              "HBox(children=(IntProgress(value=1, bar_style='info', max=1), HTML(value='')))"
            ]
          },
          "metadata": {
            "tags": []
          }
        },
        {
          "output_type": "stream",
          "text": [
            "\n",
            "Extracting /root/Datasets/FashionMNIST/FashionMNIST/raw/t10k-labels-idx1-ubyte.gz to /root/Datasets/FashionMNIST/FashionMNIST/raw\n",
            "Processing...\n",
            "Done!\n"
          ],
          "name": "stdout"
        }
      ]
    },
    {
      "cell_type": "code",
      "metadata": {
        "id": "Nw35x_epSmxr",
        "colab_type": "code",
        "colab": {}
      },
      "source": [
        "batch_size = 256\n",
        "train_iter = torch.utils.data.DataLoader(mnist_train,batch_size=batch_size,shuffle=True,num_workers=4)\n",
        "test_iter = torch.utils.data.DataLoader(mnist_test,batch_size=batch_size,shuffle=True,num_workers=4)"
      ],
      "execution_count": 0,
      "outputs": []
    },
    {
      "cell_type": "code",
      "metadata": {
        "id": "LctRycovTGNx",
        "colab_type": "code",
        "colab": {}
      },
      "source": [
        "# 定义模型参数\n",
        "num_inputs=28 *28\n",
        "num_hiddens = 256\n",
        "num_outputs = 10\n",
        "W1 = torch.tensor(np.random.normal(0, 0.01,(num_inputs, num_hiddens)),dtype=torch.float)\n",
        "b1 = torch.zeros(num_hiddens,dtype=torch.float)\n",
        "\n",
        "W2 = torch.tensor(np.random.normal(0, 0.01, (num_hiddens, num_outputs)),dtype=torch.float)\n",
        "b2 = torch.zeros(num_outputs,dtype=torch.float)\n",
        "\n",
        "params = [W1, b1, W2, b2]    # 一定要记得给这些带训练的参数附上梯度属性\n",
        "for param in params:\n",
        "  param.requires_grad_(requires_grad=True)"
      ],
      "execution_count": 0,
      "outputs": []
    },
    {
      "cell_type": "code",
      "metadata": {
        "id": "-_9B0Al7T6l2",
        "colab_type": "code",
        "colab": {}
      },
      "source": [
        "# 定义激活函数\n",
        "def relu(x):\n",
        "  return torch.max(input=x, other=torch.tensor(0.0))   # 一定要记住这里面的运算都是以tensor张量进行的，所以不要用max，而且0也是tensor(0.0)"
      ],
      "execution_count": 0,
      "outputs": []
    },
    {
      "cell_type": "code",
      "metadata": {
        "id": "0hp4ePIXUk43",
        "colab_type": "code",
        "colab": {}
      },
      "source": [
        "# 定义模型 同softmax一样，我们通过view函数将每张原始图像改成长度为 num_inputs的向量，然后我们实现多层感知机的计算\n",
        "def net(X):\n",
        "  X = X.view(-1, num_inputs)\n",
        "  H = relu(torch.mm(X,W1)+b1)\n",
        "  return torch.mm(H,W2)+b2"
      ],
      "execution_count": 0,
      "outputs": []
    },
    {
      "cell_type": "code",
      "metadata": {
        "id": "NjYb_w5kWqaw",
        "colab_type": "code",
        "colab": {}
      },
      "source": [
        "# 定义损失函数 由于是分类问题，那么还是用交叉熵损失函数吧\n",
        "# 教程中说pytorch提供的包括softmax和交叉熵损失函数的函数可以得到更好的数值稳定性\n",
        "loss = torch.nn.CrossEntropyLoss()     # 一定要熟悉nn包啊"
      ],
      "execution_count": 0,
      "outputs": []
    },
    {
      "cell_type": "code",
      "metadata": {
        "id": "ETQJywMCZ_GN",
        "colab_type": "code",
        "colab": {}
      },
      "source": [
        "def sgd(params, lr, batch_size):\n",
        "  # params也就是网络中带训练的参数，是一个列表性质的\n",
        "  for param in params:\n",
        "    param.data -= lr * param.grad / batch_size"
      ],
      "execution_count": 0,
      "outputs": []
    },
    {
      "cell_type": "code",
      "metadata": {
        "id": "Ljq557oak22Y",
        "colab_type": "code",
        "colab": {}
      },
      "source": [
        "def evaluate_accuracy(data_iter, net):\n",
        "  acc_sum = 0.0\n",
        "  n = 0\n",
        "  for X, y in data_iter:\n",
        "    acc_sum += (net(X).argmax(dim=1)==y).float().sum().item()\n",
        "    n += y.shape[0]\n",
        "  return acc_sum / n"
      ],
      "execution_count": 0,
      "outputs": []
    },
    {
      "cell_type": "code",
      "metadata": {
        "id": "YjvPJKdeXEw2",
        "colab_type": "code",
        "colab": {}
      },
      "source": [
        "# 训练模型\n",
        "num_epochs = 20\n",
        "lr = 128\n",
        "# 由于原书的mxnet中的损失函数再反向传播的时候中相对于沿batch维求和了，而pytorch默认的是求平均，所以用pytorch计算得到的loss比mxnet小很多\n",
        "# 所以反向传播得到的梯度小很多，所以我们把学习率提高batch_size倍，。之所以这么大，是因为sgd函数里函数在更新的时候除以了batch_size，其实pytorch在计算loss时已经\n",
        "# 除过一次了，sgd里卖弄应该不用除了\n",
        "# 因为训练多层感知机和之前训练softmax回归的步骤一样，这里还是再写一遍，之前都是照着写，自己还是掌握不住\n",
        "def train_net(net, train_iter, test_iter, loss, num_epochs, batch_size, params, lr, optimizer=None):\n",
        "  for epoch in range(num_epochs):\n",
        "    train_l_sum = 0.0\n",
        "    train_acc_sum = 0.0\n",
        "    n = 0\n",
        "    for X,y in train_iter:\n",
        "      y_hat=net(X)\n",
        "      l = loss(y_hat, y).sum()\n",
        "\n",
        "      #梯度清零 这里写的是通用的模板，因为可能使用了optimizer。\n",
        "      if optimizer is not None:\n",
        "        optimizer.zero_grad()\n",
        "      elif params is not None and params[0].grad is not None:\n",
        "        for param in params:\n",
        "          param.grad.data.zero_()\n",
        "      \n",
        "      # 反向传播\n",
        "      l.backward()\n",
        "      if optimizer is None:\n",
        "        sgd(params, lr, batch_size)\n",
        "      else:\n",
        "        optimizer.step()\n",
        "      \n",
        "      train_l_sum += l.item()\n",
        "      train_acc_sum += (y_hat.argmax(dim=1)==y).float().sum().item()\n",
        "      n += y.shape[0]\n",
        "    test_acc = evaluate_accuracy(test_iter, net)\n",
        "    print(\"epoch : %d , loss : %.4f, train acc : %.3f, test acc : %.3f\" % (epoch+1, train_l_sum / n, train_acc_sum / n, test_acc ))"
      ],
      "execution_count": 0,
      "outputs": []
    },
    {
      "cell_type": "code",
      "metadata": {
        "id": "cXEXsPwIkVVS",
        "colab_type": "code",
        "colab": {
          "base_uri": "https://localhost:8080/",
          "height": 369
        },
        "outputId": "ee5d6c1c-f830-4709-d023-1ffb1b107828"
      },
      "source": [
        "train_net(net, train_iter, test_iter, loss, num_epochs, batch_size, params, lr)"
      ],
      "execution_count": 29,
      "outputs": [
        {
          "output_type": "stream",
          "text": [
            "epoch : 1 , loss : 0.0012, train acc : 0.888, test acc : 0.855\n",
            "epoch : 2 , loss : 0.0011, train acc : 0.892, test acc : 0.840\n",
            "epoch : 3 , loss : 0.0011, train acc : 0.895, test acc : 0.859\n",
            "epoch : 4 , loss : 0.0011, train acc : 0.898, test acc : 0.848\n",
            "epoch : 5 , loss : 0.0011, train acc : 0.900, test acc : 0.869\n",
            "epoch : 6 , loss : 0.0010, train acc : 0.903, test acc : 0.876\n",
            "epoch : 7 , loss : 0.0010, train acc : 0.904, test acc : 0.873\n",
            "epoch : 8 , loss : 0.0010, train acc : 0.907, test acc : 0.869\n",
            "epoch : 9 , loss : 0.0010, train acc : 0.910, test acc : 0.883\n",
            "epoch : 10 , loss : 0.0009, train acc : 0.910, test acc : 0.856\n",
            "epoch : 11 , loss : 0.0009, train acc : 0.912, test acc : 0.852\n",
            "epoch : 12 , loss : 0.0009, train acc : 0.915, test acc : 0.885\n",
            "epoch : 13 , loss : 0.0009, train acc : 0.916, test acc : 0.883\n",
            "epoch : 14 , loss : 0.0009, train acc : 0.917, test acc : 0.875\n",
            "epoch : 15 , loss : 0.0008, train acc : 0.919, test acc : 0.889\n",
            "epoch : 16 , loss : 0.0008, train acc : 0.921, test acc : 0.882\n",
            "epoch : 17 , loss : 0.0008, train acc : 0.921, test acc : 0.838\n",
            "epoch : 18 , loss : 0.0008, train acc : 0.922, test acc : 0.872\n",
            "epoch : 19 , loss : 0.0008, train acc : 0.926, test acc : 0.866\n",
            "epoch : 20 , loss : 0.0008, train acc : 0.924, test acc : 0.882\n"
          ],
          "name": "stdout"
        }
      ]
    },
    {
      "cell_type": "code",
      "metadata": {
        "id": "6Ux99e-nkrnu",
        "colab_type": "code",
        "colab": {}
      },
      "source": [
        "# 3.10 多层感知机的简洁实现\n",
        "from torch import nn\n",
        "from torch.nn import init\n"
      ],
      "execution_count": 0,
      "outputs": []
    },
    {
      "cell_type": "code",
      "metadata": {
        "id": "0i2tmy3upR7d",
        "colab_type": "code",
        "colab": {}
      },
      "source": [
        "class FlattenLayer(nn.Module):\n",
        "  def __init__(self):\n",
        "    super(FlattenLayer, self).__init__()\n",
        "  def forward(self, x):\n",
        "    return x.view(x.shape[0], -1)"
      ],
      "execution_count": 0,
      "outputs": []
    },
    {
      "cell_type": "code",
      "metadata": {
        "id": "uGAtPCZqosmq",
        "colab_type": "code",
        "colab": {}
      },
      "source": [
        "# 定义模型\n",
        "net = nn.Sequential(\n",
        "    FlattenLayer(),\n",
        "    nn.Linear(num_inputs, num_hiddens),\n",
        "    nn.ReLU(),\n",
        "    nn.Linear(num_hiddens, num_outputs),\n",
        ")\n",
        "for params in net.parameters():\n",
        "  init.normal_(params, mean=0, std=0.01)"
      ],
      "execution_count": 0,
      "outputs": []
    },
    {
      "cell_type": "code",
      "metadata": {
        "id": "Y-Tn8xmupxQO",
        "colab_type": "code",
        "colab": {
          "base_uri": "https://localhost:8080/",
          "height": 369
        },
        "outputId": "5ca156bd-51f0-4a61-bf3a-fb0867c1e328"
      },
      "source": [
        "# 读取数据并训练模型  上面已经有了\n",
        "# batch_size = 256\n",
        "# train_iter, test_iter \n",
        "# loss = torch.nn.CrossEntropyLoss()\n",
        "optimizer = torch.optim.SGD(net.parameters(), lr=0.5)\n",
        "\n",
        "train_net(net, train_iter, test_iter, loss, num_epochs,\n",
        "batch_size, None, None, optimizer)"
      ],
      "execution_count": 35,
      "outputs": [
        {
          "output_type": "stream",
          "text": [
            "epoch : 1 , loss : 0.0031, train acc : 0.697, test acc : 0.769\n",
            "epoch : 2 , loss : 0.0019, train acc : 0.821, test acc : 0.817\n",
            "epoch : 3 , loss : 0.0016, train acc : 0.844, test acc : 0.825\n",
            "epoch : 4 , loss : 0.0015, train acc : 0.854, test acc : 0.844\n",
            "epoch : 5 , loss : 0.0014, train acc : 0.863, test acc : 0.852\n",
            "epoch : 6 , loss : 0.0014, train acc : 0.873, test acc : 0.857\n",
            "epoch : 7 , loss : 0.0013, train acc : 0.875, test acc : 0.833\n",
            "epoch : 8 , loss : 0.0013, train acc : 0.880, test acc : 0.868\n",
            "epoch : 9 , loss : 0.0012, train acc : 0.883, test acc : 0.848\n",
            "epoch : 10 , loss : 0.0012, train acc : 0.886, test acc : 0.856\n",
            "epoch : 11 , loss : 0.0012, train acc : 0.891, test acc : 0.867\n",
            "epoch : 12 , loss : 0.0011, train acc : 0.894, test acc : 0.867\n",
            "epoch : 13 , loss : 0.0011, train acc : 0.895, test acc : 0.875\n",
            "epoch : 14 , loss : 0.0011, train acc : 0.898, test acc : 0.862\n",
            "epoch : 15 , loss : 0.0011, train acc : 0.900, test acc : 0.853\n",
            "epoch : 16 , loss : 0.0010, train acc : 0.902, test acc : 0.872\n",
            "epoch : 17 , loss : 0.0010, train acc : 0.903, test acc : 0.877\n",
            "epoch : 18 , loss : 0.0010, train acc : 0.906, test acc : 0.880\n",
            "epoch : 19 , loss : 0.0010, train acc : 0.909, test acc : 0.842\n",
            "epoch : 20 , loss : 0.0010, train acc : 0.908, test acc : 0.876\n"
          ],
          "name": "stdout"
        }
      ]
    },
    {
      "cell_type": "code",
      "metadata": {
        "id": "hmeugFC9qGO_",
        "colab_type": "code",
        "colab": {}
      },
      "source": [
        ""
      ],
      "execution_count": 0,
      "outputs": []
    }
  ]
}