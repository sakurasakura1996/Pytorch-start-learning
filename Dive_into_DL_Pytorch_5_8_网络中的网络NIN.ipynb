{
  "nbformat": 4,
  "nbformat_minor": 0,
  "metadata": {
    "colab": {
      "name": "Dive-into-DL-Pytorch-5.8-网络中的网络NIN.ipynb",
      "provenance": [],
      "authorship_tag": "ABX9TyO9UuhhFBp9EfQB+JixALDy",
      "include_colab_link": true
    },
    "kernelspec": {
      "name": "python3",
      "display_name": "Python 3"
    },
    "accelerator": "GPU",
    "widgets": {
      "application/vnd.jupyter.widget-state+json": {
        "d52f8ae11aaf4f6f9f6f194c229350fa": {
          "model_module": "@jupyter-widgets/controls",
          "model_name": "HBoxModel",
          "state": {
            "_view_name": "HBoxView",
            "_dom_classes": [],
            "_model_name": "HBoxModel",
            "_view_module": "@jupyter-widgets/controls",
            "_model_module_version": "1.5.0",
            "_view_count": null,
            "_view_module_version": "1.5.0",
            "box_style": "",
            "layout": "IPY_MODEL_22670622917f467cb0281deb42c58845",
            "_model_module": "@jupyter-widgets/controls",
            "children": [
              "IPY_MODEL_75285267b4d34ac8be973825435a2cfa",
              "IPY_MODEL_b827aad3002941098bc3422b8717b63e"
            ]
          }
        },
        "22670622917f467cb0281deb42c58845": {
          "model_module": "@jupyter-widgets/base",
          "model_name": "LayoutModel",
          "state": {
            "_view_name": "LayoutView",
            "grid_template_rows": null,
            "right": null,
            "justify_content": null,
            "_view_module": "@jupyter-widgets/base",
            "overflow": null,
            "_model_module_version": "1.2.0",
            "_view_count": null,
            "flex_flow": null,
            "width": null,
            "min_width": null,
            "border": null,
            "align_items": null,
            "bottom": null,
            "_model_module": "@jupyter-widgets/base",
            "top": null,
            "grid_column": null,
            "overflow_y": null,
            "overflow_x": null,
            "grid_auto_flow": null,
            "grid_area": null,
            "grid_template_columns": null,
            "flex": null,
            "_model_name": "LayoutModel",
            "justify_items": null,
            "grid_row": null,
            "max_height": null,
            "align_content": null,
            "visibility": null,
            "align_self": null,
            "height": null,
            "min_height": null,
            "padding": null,
            "grid_auto_rows": null,
            "grid_gap": null,
            "max_width": null,
            "order": null,
            "_view_module_version": "1.2.0",
            "grid_template_areas": null,
            "object_position": null,
            "object_fit": null,
            "grid_auto_columns": null,
            "margin": null,
            "display": null,
            "left": null
          }
        },
        "75285267b4d34ac8be973825435a2cfa": {
          "model_module": "@jupyter-widgets/controls",
          "model_name": "IntProgressModel",
          "state": {
            "_view_name": "ProgressView",
            "style": "IPY_MODEL_a8cfc83979164afb993ea0831b6155d1",
            "_dom_classes": [],
            "description": "",
            "_model_name": "IntProgressModel",
            "bar_style": "success",
            "max": 1,
            "_view_module": "@jupyter-widgets/controls",
            "_model_module_version": "1.5.0",
            "value": 1,
            "_view_count": null,
            "_view_module_version": "1.5.0",
            "orientation": "horizontal",
            "min": 0,
            "description_tooltip": null,
            "_model_module": "@jupyter-widgets/controls",
            "layout": "IPY_MODEL_454a60e7a19248688f55e8d48486d07b"
          }
        },
        "b827aad3002941098bc3422b8717b63e": {
          "model_module": "@jupyter-widgets/controls",
          "model_name": "HTMLModel",
          "state": {
            "_view_name": "HTMLView",
            "style": "IPY_MODEL_8b40cda8f4a842ceb8089fd3ebc7ae11",
            "_dom_classes": [],
            "description": "",
            "_model_name": "HTMLModel",
            "placeholder": "​",
            "_view_module": "@jupyter-widgets/controls",
            "_model_module_version": "1.5.0",
            "value": "26427392it [00:00, 76838063.64it/s]",
            "_view_count": null,
            "_view_module_version": "1.5.0",
            "description_tooltip": null,
            "_model_module": "@jupyter-widgets/controls",
            "layout": "IPY_MODEL_a229c4a213ac40c38e8751cbd3706e30"
          }
        },
        "a8cfc83979164afb993ea0831b6155d1": {
          "model_module": "@jupyter-widgets/controls",
          "model_name": "ProgressStyleModel",
          "state": {
            "_view_name": "StyleView",
            "_model_name": "ProgressStyleModel",
            "description_width": "",
            "_view_module": "@jupyter-widgets/base",
            "_model_module_version": "1.5.0",
            "_view_count": null,
            "_view_module_version": "1.2.0",
            "bar_color": null,
            "_model_module": "@jupyter-widgets/controls"
          }
        },
        "454a60e7a19248688f55e8d48486d07b": {
          "model_module": "@jupyter-widgets/base",
          "model_name": "LayoutModel",
          "state": {
            "_view_name": "LayoutView",
            "grid_template_rows": null,
            "right": null,
            "justify_content": null,
            "_view_module": "@jupyter-widgets/base",
            "overflow": null,
            "_model_module_version": "1.2.0",
            "_view_count": null,
            "flex_flow": null,
            "width": null,
            "min_width": null,
            "border": null,
            "align_items": null,
            "bottom": null,
            "_model_module": "@jupyter-widgets/base",
            "top": null,
            "grid_column": null,
            "overflow_y": null,
            "overflow_x": null,
            "grid_auto_flow": null,
            "grid_area": null,
            "grid_template_columns": null,
            "flex": null,
            "_model_name": "LayoutModel",
            "justify_items": null,
            "grid_row": null,
            "max_height": null,
            "align_content": null,
            "visibility": null,
            "align_self": null,
            "height": null,
            "min_height": null,
            "padding": null,
            "grid_auto_rows": null,
            "grid_gap": null,
            "max_width": null,
            "order": null,
            "_view_module_version": "1.2.0",
            "grid_template_areas": null,
            "object_position": null,
            "object_fit": null,
            "grid_auto_columns": null,
            "margin": null,
            "display": null,
            "left": null
          }
        },
        "8b40cda8f4a842ceb8089fd3ebc7ae11": {
          "model_module": "@jupyter-widgets/controls",
          "model_name": "DescriptionStyleModel",
          "state": {
            "_view_name": "StyleView",
            "_model_name": "DescriptionStyleModel",
            "description_width": "",
            "_view_module": "@jupyter-widgets/base",
            "_model_module_version": "1.5.0",
            "_view_count": null,
            "_view_module_version": "1.2.0",
            "_model_module": "@jupyter-widgets/controls"
          }
        },
        "a229c4a213ac40c38e8751cbd3706e30": {
          "model_module": "@jupyter-widgets/base",
          "model_name": "LayoutModel",
          "state": {
            "_view_name": "LayoutView",
            "grid_template_rows": null,
            "right": null,
            "justify_content": null,
            "_view_module": "@jupyter-widgets/base",
            "overflow": null,
            "_model_module_version": "1.2.0",
            "_view_count": null,
            "flex_flow": null,
            "width": null,
            "min_width": null,
            "border": null,
            "align_items": null,
            "bottom": null,
            "_model_module": "@jupyter-widgets/base",
            "top": null,
            "grid_column": null,
            "overflow_y": null,
            "overflow_x": null,
            "grid_auto_flow": null,
            "grid_area": null,
            "grid_template_columns": null,
            "flex": null,
            "_model_name": "LayoutModel",
            "justify_items": null,
            "grid_row": null,
            "max_height": null,
            "align_content": null,
            "visibility": null,
            "align_self": null,
            "height": null,
            "min_height": null,
            "padding": null,
            "grid_auto_rows": null,
            "grid_gap": null,
            "max_width": null,
            "order": null,
            "_view_module_version": "1.2.0",
            "grid_template_areas": null,
            "object_position": null,
            "object_fit": null,
            "grid_auto_columns": null,
            "margin": null,
            "display": null,
            "left": null
          }
        },
        "652e8fe6029b43188d27753e8c8bbdaf": {
          "model_module": "@jupyter-widgets/controls",
          "model_name": "HBoxModel",
          "state": {
            "_view_name": "HBoxView",
            "_dom_classes": [],
            "_model_name": "HBoxModel",
            "_view_module": "@jupyter-widgets/controls",
            "_model_module_version": "1.5.0",
            "_view_count": null,
            "_view_module_version": "1.5.0",
            "box_style": "",
            "layout": "IPY_MODEL_0a9981da825c49b8af2f4e18f206debd",
            "_model_module": "@jupyter-widgets/controls",
            "children": [
              "IPY_MODEL_f09972f9ec894e2293846f054a89beec",
              "IPY_MODEL_395308f02bfd4a7899688e52e3cb6bde"
            ]
          }
        },
        "0a9981da825c49b8af2f4e18f206debd": {
          "model_module": "@jupyter-widgets/base",
          "model_name": "LayoutModel",
          "state": {
            "_view_name": "LayoutView",
            "grid_template_rows": null,
            "right": null,
            "justify_content": null,
            "_view_module": "@jupyter-widgets/base",
            "overflow": null,
            "_model_module_version": "1.2.0",
            "_view_count": null,
            "flex_flow": null,
            "width": null,
            "min_width": null,
            "border": null,
            "align_items": null,
            "bottom": null,
            "_model_module": "@jupyter-widgets/base",
            "top": null,
            "grid_column": null,
            "overflow_y": null,
            "overflow_x": null,
            "grid_auto_flow": null,
            "grid_area": null,
            "grid_template_columns": null,
            "flex": null,
            "_model_name": "LayoutModel",
            "justify_items": null,
            "grid_row": null,
            "max_height": null,
            "align_content": null,
            "visibility": null,
            "align_self": null,
            "height": null,
            "min_height": null,
            "padding": null,
            "grid_auto_rows": null,
            "grid_gap": null,
            "max_width": null,
            "order": null,
            "_view_module_version": "1.2.0",
            "grid_template_areas": null,
            "object_position": null,
            "object_fit": null,
            "grid_auto_columns": null,
            "margin": null,
            "display": null,
            "left": null
          }
        },
        "f09972f9ec894e2293846f054a89beec": {
          "model_module": "@jupyter-widgets/controls",
          "model_name": "IntProgressModel",
          "state": {
            "_view_name": "ProgressView",
            "style": "IPY_MODEL_10191ed761774552b0c563c0190e3bb8",
            "_dom_classes": [],
            "description": "",
            "_model_name": "IntProgressModel",
            "bar_style": "success",
            "max": 1,
            "_view_module": "@jupyter-widgets/controls",
            "_model_module_version": "1.5.0",
            "value": 1,
            "_view_count": null,
            "_view_module_version": "1.5.0",
            "orientation": "horizontal",
            "min": 0,
            "description_tooltip": null,
            "_model_module": "@jupyter-widgets/controls",
            "layout": "IPY_MODEL_223dfb69c1e24de8be653c80319efa22"
          }
        },
        "395308f02bfd4a7899688e52e3cb6bde": {
          "model_module": "@jupyter-widgets/controls",
          "model_name": "HTMLModel",
          "state": {
            "_view_name": "HTMLView",
            "style": "IPY_MODEL_b437ce485f2e4dd2862eee5444cd28ab",
            "_dom_classes": [],
            "description": "",
            "_model_name": "HTMLModel",
            "placeholder": "​",
            "_view_module": "@jupyter-widgets/controls",
            "_model_module_version": "1.5.0",
            "value": "32768it [00:00, 404955.18it/s]",
            "_view_count": null,
            "_view_module_version": "1.5.0",
            "description_tooltip": null,
            "_model_module": "@jupyter-widgets/controls",
            "layout": "IPY_MODEL_0d5088cf87974b0ea1705e5b5d105601"
          }
        },
        "10191ed761774552b0c563c0190e3bb8": {
          "model_module": "@jupyter-widgets/controls",
          "model_name": "ProgressStyleModel",
          "state": {
            "_view_name": "StyleView",
            "_model_name": "ProgressStyleModel",
            "description_width": "",
            "_view_module": "@jupyter-widgets/base",
            "_model_module_version": "1.5.0",
            "_view_count": null,
            "_view_module_version": "1.2.0",
            "bar_color": null,
            "_model_module": "@jupyter-widgets/controls"
          }
        },
        "223dfb69c1e24de8be653c80319efa22": {
          "model_module": "@jupyter-widgets/base",
          "model_name": "LayoutModel",
          "state": {
            "_view_name": "LayoutView",
            "grid_template_rows": null,
            "right": null,
            "justify_content": null,
            "_view_module": "@jupyter-widgets/base",
            "overflow": null,
            "_model_module_version": "1.2.0",
            "_view_count": null,
            "flex_flow": null,
            "width": null,
            "min_width": null,
            "border": null,
            "align_items": null,
            "bottom": null,
            "_model_module": "@jupyter-widgets/base",
            "top": null,
            "grid_column": null,
            "overflow_y": null,
            "overflow_x": null,
            "grid_auto_flow": null,
            "grid_area": null,
            "grid_template_columns": null,
            "flex": null,
            "_model_name": "LayoutModel",
            "justify_items": null,
            "grid_row": null,
            "max_height": null,
            "align_content": null,
            "visibility": null,
            "align_self": null,
            "height": null,
            "min_height": null,
            "padding": null,
            "grid_auto_rows": null,
            "grid_gap": null,
            "max_width": null,
            "order": null,
            "_view_module_version": "1.2.0",
            "grid_template_areas": null,
            "object_position": null,
            "object_fit": null,
            "grid_auto_columns": null,
            "margin": null,
            "display": null,
            "left": null
          }
        },
        "b437ce485f2e4dd2862eee5444cd28ab": {
          "model_module": "@jupyter-widgets/controls",
          "model_name": "DescriptionStyleModel",
          "state": {
            "_view_name": "StyleView",
            "_model_name": "DescriptionStyleModel",
            "description_width": "",
            "_view_module": "@jupyter-widgets/base",
            "_model_module_version": "1.5.0",
            "_view_count": null,
            "_view_module_version": "1.2.0",
            "_model_module": "@jupyter-widgets/controls"
          }
        },
        "0d5088cf87974b0ea1705e5b5d105601": {
          "model_module": "@jupyter-widgets/base",
          "model_name": "LayoutModel",
          "state": {
            "_view_name": "LayoutView",
            "grid_template_rows": null,
            "right": null,
            "justify_content": null,
            "_view_module": "@jupyter-widgets/base",
            "overflow": null,
            "_model_module_version": "1.2.0",
            "_view_count": null,
            "flex_flow": null,
            "width": null,
            "min_width": null,
            "border": null,
            "align_items": null,
            "bottom": null,
            "_model_module": "@jupyter-widgets/base",
            "top": null,
            "grid_column": null,
            "overflow_y": null,
            "overflow_x": null,
            "grid_auto_flow": null,
            "grid_area": null,
            "grid_template_columns": null,
            "flex": null,
            "_model_name": "LayoutModel",
            "justify_items": null,
            "grid_row": null,
            "max_height": null,
            "align_content": null,
            "visibility": null,
            "align_self": null,
            "height": null,
            "min_height": null,
            "padding": null,
            "grid_auto_rows": null,
            "grid_gap": null,
            "max_width": null,
            "order": null,
            "_view_module_version": "1.2.0",
            "grid_template_areas": null,
            "object_position": null,
            "object_fit": null,
            "grid_auto_columns": null,
            "margin": null,
            "display": null,
            "left": null
          }
        },
        "583e9ee314f047bdb99d686124cb783a": {
          "model_module": "@jupyter-widgets/controls",
          "model_name": "HBoxModel",
          "state": {
            "_view_name": "HBoxView",
            "_dom_classes": [],
            "_model_name": "HBoxModel",
            "_view_module": "@jupyter-widgets/controls",
            "_model_module_version": "1.5.0",
            "_view_count": null,
            "_view_module_version": "1.5.0",
            "box_style": "",
            "layout": "IPY_MODEL_e92a626a796e47a69d7551e2830ecbf8",
            "_model_module": "@jupyter-widgets/controls",
            "children": [
              "IPY_MODEL_e18c170df9d24345b714210212cdc28f",
              "IPY_MODEL_1294049bd2b94f17a67ee8dcb4f5aa26"
            ]
          }
        },
        "e92a626a796e47a69d7551e2830ecbf8": {
          "model_module": "@jupyter-widgets/base",
          "model_name": "LayoutModel",
          "state": {
            "_view_name": "LayoutView",
            "grid_template_rows": null,
            "right": null,
            "justify_content": null,
            "_view_module": "@jupyter-widgets/base",
            "overflow": null,
            "_model_module_version": "1.2.0",
            "_view_count": null,
            "flex_flow": null,
            "width": null,
            "min_width": null,
            "border": null,
            "align_items": null,
            "bottom": null,
            "_model_module": "@jupyter-widgets/base",
            "top": null,
            "grid_column": null,
            "overflow_y": null,
            "overflow_x": null,
            "grid_auto_flow": null,
            "grid_area": null,
            "grid_template_columns": null,
            "flex": null,
            "_model_name": "LayoutModel",
            "justify_items": null,
            "grid_row": null,
            "max_height": null,
            "align_content": null,
            "visibility": null,
            "align_self": null,
            "height": null,
            "min_height": null,
            "padding": null,
            "grid_auto_rows": null,
            "grid_gap": null,
            "max_width": null,
            "order": null,
            "_view_module_version": "1.2.0",
            "grid_template_areas": null,
            "object_position": null,
            "object_fit": null,
            "grid_auto_columns": null,
            "margin": null,
            "display": null,
            "left": null
          }
        },
        "e18c170df9d24345b714210212cdc28f": {
          "model_module": "@jupyter-widgets/controls",
          "model_name": "IntProgressModel",
          "state": {
            "_view_name": "ProgressView",
            "style": "IPY_MODEL_681c7d5350e14529bf526feaf563cf50",
            "_dom_classes": [],
            "description": "",
            "_model_name": "IntProgressModel",
            "bar_style": "success",
            "max": 1,
            "_view_module": "@jupyter-widgets/controls",
            "_model_module_version": "1.5.0",
            "value": 1,
            "_view_count": null,
            "_view_module_version": "1.5.0",
            "orientation": "horizontal",
            "min": 0,
            "description_tooltip": null,
            "_model_module": "@jupyter-widgets/controls",
            "layout": "IPY_MODEL_376114d0baec4b328ee7f421c822b03b"
          }
        },
        "1294049bd2b94f17a67ee8dcb4f5aa26": {
          "model_module": "@jupyter-widgets/controls",
          "model_name": "HTMLModel",
          "state": {
            "_view_name": "HTMLView",
            "style": "IPY_MODEL_4c516aae19c6408a8cceb02b4b4e0834",
            "_dom_classes": [],
            "description": "",
            "_model_name": "HTMLModel",
            "placeholder": "​",
            "_view_module": "@jupyter-widgets/controls",
            "_model_module_version": "1.5.0",
            "value": "4423680it [00:00, 33595198.74it/s]",
            "_view_count": null,
            "_view_module_version": "1.5.0",
            "description_tooltip": null,
            "_model_module": "@jupyter-widgets/controls",
            "layout": "IPY_MODEL_59a7cddb654c41e6b67decaf621d8d77"
          }
        },
        "681c7d5350e14529bf526feaf563cf50": {
          "model_module": "@jupyter-widgets/controls",
          "model_name": "ProgressStyleModel",
          "state": {
            "_view_name": "StyleView",
            "_model_name": "ProgressStyleModel",
            "description_width": "",
            "_view_module": "@jupyter-widgets/base",
            "_model_module_version": "1.5.0",
            "_view_count": null,
            "_view_module_version": "1.2.0",
            "bar_color": null,
            "_model_module": "@jupyter-widgets/controls"
          }
        },
        "376114d0baec4b328ee7f421c822b03b": {
          "model_module": "@jupyter-widgets/base",
          "model_name": "LayoutModel",
          "state": {
            "_view_name": "LayoutView",
            "grid_template_rows": null,
            "right": null,
            "justify_content": null,
            "_view_module": "@jupyter-widgets/base",
            "overflow": null,
            "_model_module_version": "1.2.0",
            "_view_count": null,
            "flex_flow": null,
            "width": null,
            "min_width": null,
            "border": null,
            "align_items": null,
            "bottom": null,
            "_model_module": "@jupyter-widgets/base",
            "top": null,
            "grid_column": null,
            "overflow_y": null,
            "overflow_x": null,
            "grid_auto_flow": null,
            "grid_area": null,
            "grid_template_columns": null,
            "flex": null,
            "_model_name": "LayoutModel",
            "justify_items": null,
            "grid_row": null,
            "max_height": null,
            "align_content": null,
            "visibility": null,
            "align_self": null,
            "height": null,
            "min_height": null,
            "padding": null,
            "grid_auto_rows": null,
            "grid_gap": null,
            "max_width": null,
            "order": null,
            "_view_module_version": "1.2.0",
            "grid_template_areas": null,
            "object_position": null,
            "object_fit": null,
            "grid_auto_columns": null,
            "margin": null,
            "display": null,
            "left": null
          }
        },
        "4c516aae19c6408a8cceb02b4b4e0834": {
          "model_module": "@jupyter-widgets/controls",
          "model_name": "DescriptionStyleModel",
          "state": {
            "_view_name": "StyleView",
            "_model_name": "DescriptionStyleModel",
            "description_width": "",
            "_view_module": "@jupyter-widgets/base",
            "_model_module_version": "1.5.0",
            "_view_count": null,
            "_view_module_version": "1.2.0",
            "_model_module": "@jupyter-widgets/controls"
          }
        },
        "59a7cddb654c41e6b67decaf621d8d77": {
          "model_module": "@jupyter-widgets/base",
          "model_name": "LayoutModel",
          "state": {
            "_view_name": "LayoutView",
            "grid_template_rows": null,
            "right": null,
            "justify_content": null,
            "_view_module": "@jupyter-widgets/base",
            "overflow": null,
            "_model_module_version": "1.2.0",
            "_view_count": null,
            "flex_flow": null,
            "width": null,
            "min_width": null,
            "border": null,
            "align_items": null,
            "bottom": null,
            "_model_module": "@jupyter-widgets/base",
            "top": null,
            "grid_column": null,
            "overflow_y": null,
            "overflow_x": null,
            "grid_auto_flow": null,
            "grid_area": null,
            "grid_template_columns": null,
            "flex": null,
            "_model_name": "LayoutModel",
            "justify_items": null,
            "grid_row": null,
            "max_height": null,
            "align_content": null,
            "visibility": null,
            "align_self": null,
            "height": null,
            "min_height": null,
            "padding": null,
            "grid_auto_rows": null,
            "grid_gap": null,
            "max_width": null,
            "order": null,
            "_view_module_version": "1.2.0",
            "grid_template_areas": null,
            "object_position": null,
            "object_fit": null,
            "grid_auto_columns": null,
            "margin": null,
            "display": null,
            "left": null
          }
        },
        "02598d7363da48e1929448f5fa1647be": {
          "model_module": "@jupyter-widgets/controls",
          "model_name": "HBoxModel",
          "state": {
            "_view_name": "HBoxView",
            "_dom_classes": [],
            "_model_name": "HBoxModel",
            "_view_module": "@jupyter-widgets/controls",
            "_model_module_version": "1.5.0",
            "_view_count": null,
            "_view_module_version": "1.5.0",
            "box_style": "",
            "layout": "IPY_MODEL_979c6a98f7ae45d689e87f73a18f3d37",
            "_model_module": "@jupyter-widgets/controls",
            "children": [
              "IPY_MODEL_5a7346886b8f4af897f38f0c21755136",
              "IPY_MODEL_d81aa8df879a458ca499ef284d55a8ee"
            ]
          }
        },
        "979c6a98f7ae45d689e87f73a18f3d37": {
          "model_module": "@jupyter-widgets/base",
          "model_name": "LayoutModel",
          "state": {
            "_view_name": "LayoutView",
            "grid_template_rows": null,
            "right": null,
            "justify_content": null,
            "_view_module": "@jupyter-widgets/base",
            "overflow": null,
            "_model_module_version": "1.2.0",
            "_view_count": null,
            "flex_flow": null,
            "width": null,
            "min_width": null,
            "border": null,
            "align_items": null,
            "bottom": null,
            "_model_module": "@jupyter-widgets/base",
            "top": null,
            "grid_column": null,
            "overflow_y": null,
            "overflow_x": null,
            "grid_auto_flow": null,
            "grid_area": null,
            "grid_template_columns": null,
            "flex": null,
            "_model_name": "LayoutModel",
            "justify_items": null,
            "grid_row": null,
            "max_height": null,
            "align_content": null,
            "visibility": null,
            "align_self": null,
            "height": null,
            "min_height": null,
            "padding": null,
            "grid_auto_rows": null,
            "grid_gap": null,
            "max_width": null,
            "order": null,
            "_view_module_version": "1.2.0",
            "grid_template_areas": null,
            "object_position": null,
            "object_fit": null,
            "grid_auto_columns": null,
            "margin": null,
            "display": null,
            "left": null
          }
        },
        "5a7346886b8f4af897f38f0c21755136": {
          "model_module": "@jupyter-widgets/controls",
          "model_name": "IntProgressModel",
          "state": {
            "_view_name": "ProgressView",
            "style": "IPY_MODEL_78bd5ac6065f4be3a14de4606a841081",
            "_dom_classes": [],
            "description": "",
            "_model_name": "IntProgressModel",
            "bar_style": "success",
            "max": 1,
            "_view_module": "@jupyter-widgets/controls",
            "_model_module_version": "1.5.0",
            "value": 1,
            "_view_count": null,
            "_view_module_version": "1.5.0",
            "orientation": "horizontal",
            "min": 0,
            "description_tooltip": null,
            "_model_module": "@jupyter-widgets/controls",
            "layout": "IPY_MODEL_3095af5d646844c8a506569a727f8a5a"
          }
        },
        "d81aa8df879a458ca499ef284d55a8ee": {
          "model_module": "@jupyter-widgets/controls",
          "model_name": "HTMLModel",
          "state": {
            "_view_name": "HTMLView",
            "style": "IPY_MODEL_ca87cf598da0477d92b4ccc00279392c",
            "_dom_classes": [],
            "description": "",
            "_model_name": "HTMLModel",
            "placeholder": "​",
            "_view_module": "@jupyter-widgets/controls",
            "_model_module_version": "1.5.0",
            "value": "8192it [00:00, 141869.83it/s]",
            "_view_count": null,
            "_view_module_version": "1.5.0",
            "description_tooltip": null,
            "_model_module": "@jupyter-widgets/controls",
            "layout": "IPY_MODEL_8c02232cdd8148bab8d0831670a1e584"
          }
        },
        "78bd5ac6065f4be3a14de4606a841081": {
          "model_module": "@jupyter-widgets/controls",
          "model_name": "ProgressStyleModel",
          "state": {
            "_view_name": "StyleView",
            "_model_name": "ProgressStyleModel",
            "description_width": "",
            "_view_module": "@jupyter-widgets/base",
            "_model_module_version": "1.5.0",
            "_view_count": null,
            "_view_module_version": "1.2.0",
            "bar_color": null,
            "_model_module": "@jupyter-widgets/controls"
          }
        },
        "3095af5d646844c8a506569a727f8a5a": {
          "model_module": "@jupyter-widgets/base",
          "model_name": "LayoutModel",
          "state": {
            "_view_name": "LayoutView",
            "grid_template_rows": null,
            "right": null,
            "justify_content": null,
            "_view_module": "@jupyter-widgets/base",
            "overflow": null,
            "_model_module_version": "1.2.0",
            "_view_count": null,
            "flex_flow": null,
            "width": null,
            "min_width": null,
            "border": null,
            "align_items": null,
            "bottom": null,
            "_model_module": "@jupyter-widgets/base",
            "top": null,
            "grid_column": null,
            "overflow_y": null,
            "overflow_x": null,
            "grid_auto_flow": null,
            "grid_area": null,
            "grid_template_columns": null,
            "flex": null,
            "_model_name": "LayoutModel",
            "justify_items": null,
            "grid_row": null,
            "max_height": null,
            "align_content": null,
            "visibility": null,
            "align_self": null,
            "height": null,
            "min_height": null,
            "padding": null,
            "grid_auto_rows": null,
            "grid_gap": null,
            "max_width": null,
            "order": null,
            "_view_module_version": "1.2.0",
            "grid_template_areas": null,
            "object_position": null,
            "object_fit": null,
            "grid_auto_columns": null,
            "margin": null,
            "display": null,
            "left": null
          }
        },
        "ca87cf598da0477d92b4ccc00279392c": {
          "model_module": "@jupyter-widgets/controls",
          "model_name": "DescriptionStyleModel",
          "state": {
            "_view_name": "StyleView",
            "_model_name": "DescriptionStyleModel",
            "description_width": "",
            "_view_module": "@jupyter-widgets/base",
            "_model_module_version": "1.5.0",
            "_view_count": null,
            "_view_module_version": "1.2.0",
            "_model_module": "@jupyter-widgets/controls"
          }
        },
        "8c02232cdd8148bab8d0831670a1e584": {
          "model_module": "@jupyter-widgets/base",
          "model_name": "LayoutModel",
          "state": {
            "_view_name": "LayoutView",
            "grid_template_rows": null,
            "right": null,
            "justify_content": null,
            "_view_module": "@jupyter-widgets/base",
            "overflow": null,
            "_model_module_version": "1.2.0",
            "_view_count": null,
            "flex_flow": null,
            "width": null,
            "min_width": null,
            "border": null,
            "align_items": null,
            "bottom": null,
            "_model_module": "@jupyter-widgets/base",
            "top": null,
            "grid_column": null,
            "overflow_y": null,
            "overflow_x": null,
            "grid_auto_flow": null,
            "grid_area": null,
            "grid_template_columns": null,
            "flex": null,
            "_model_name": "LayoutModel",
            "justify_items": null,
            "grid_row": null,
            "max_height": null,
            "align_content": null,
            "visibility": null,
            "align_self": null,
            "height": null,
            "min_height": null,
            "padding": null,
            "grid_auto_rows": null,
            "grid_gap": null,
            "max_width": null,
            "order": null,
            "_view_module_version": "1.2.0",
            "grid_template_areas": null,
            "object_position": null,
            "object_fit": null,
            "grid_auto_columns": null,
            "margin": null,
            "display": null,
            "left": null
          }
        }
      }
    }
  },
  "cells": [
    {
      "cell_type": "markdown",
      "metadata": {
        "id": "view-in-github",
        "colab_type": "text"
      },
      "source": [
        "<a href=\"https://colab.research.google.com/github/sakurasakura1996/Pytorch-start-learning/blob/master/Dive_into_DL_Pytorch_5_8_%E7%BD%91%E7%BB%9C%E4%B8%AD%E7%9A%84%E7%BD%91%E7%BB%9CNIN.ipynb\" target=\"_parent\"><img src=\"https://colab.research.google.com/assets/colab-badge.svg\" alt=\"Open In Colab\"/></a>"
      ]
    },
    {
      "cell_type": "markdown",
      "metadata": {
        "id": "F1Z55tnUHIK4",
        "colab_type": "text"
      },
      "source": [
        "# 5.8 网络中的网络\n",
        "前面LeNet、AlexNet和VGG在设计上的共同之处是：先由卷积层构成的模块充分抽取空间特征，再以由全连接层构成的模块来输出分类结果。其中，AlexNet和VGG对LeNet的改进主要在于如何对这两个模块加宽（增加通道数）和加深。本节介绍网络中的网络（NiN）他提出了另外一个思路，即**串联多个由卷积层和“全连接”层构成的小网络来构建一个深层网络**\n",
        "##５.８.１NIN块\n",
        "我们知道，卷积层的输入和输出通常是四维数组（样本，通道，高，宽）而全连接层的输入和输出则通常是二维数组（样本，特征）。如果想在全连接层后再接上卷积层，则需要将全连接层的输出变换为四维。回以１ｘ１卷积层。它可以看成全连接层，其中空间维度（高和宽）上的每个元素相当于样本，通道相当于特征。因此，NiN使用1x1卷积层来替代全连接层，从而使空间信息能够自然传递到后面的层中去。\n",
        "![image.png](data:image/png;base64,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)\n",
        "NiN块是NiN中的基础块，他由一个卷积层加两个充当全连接层的1x1卷积层串联而成。其中第一个卷积层的超参数可以自行设置，而第二和第三个卷积层的超参数一般是固定的\n"
      ]
    },
    {
      "cell_type": "code",
      "metadata": {
        "id": "lH1fIs7nLBFI",
        "colab_type": "code",
        "colab": {}
      },
      "source": [
        "import time\n",
        "import torch\n",
        "from torch import nn, optim\n",
        "import torch.nn.functional as F\n",
        "import torchvision\n",
        "\n",
        "device = torch.device('cuda' if torch.cuda.is_available() else 'cpu')\n",
        "\n",
        "def nin_block(in_channels, out_channels, kernel_size, stride, padding):\n",
        "  blk = nn.Sequential(\n",
        "      nn.Conv2d(in_channels, out_channels, kernel_size, stride, padding),\n",
        "      nn.ReLU(),\n",
        "      nn.Conv2d(out_channels,out_channels,kernel_size=1),\n",
        "      nn.ReLU(),\n",
        "      nn.Conv2d(out_channels, out_channels, kernel_size=1),\n",
        "      nn.ReLU()\n",
        "  )\n",
        "  return blk"
      ],
      "execution_count": 0,
      "outputs": []
    },
    {
      "cell_type": "code",
      "metadata": {
        "id": "LILnz4hFRou_",
        "colab_type": "code",
        "colab": {}
      },
      "source": [
        "class FlattenLayer(nn.Module):\n",
        "  def __init__(self):\n",
        "    super(FlattenLayer, self).__init__()\n",
        "  def forward(self, x): # x shape: (batch, *, *, ...)\n",
        "    return x.view(x.shape[0], -1)"
      ],
      "execution_count": 0,
      "outputs": []
    },
    {
      "cell_type": "code",
      "metadata": {
        "id": "lMvL1RFLMfyu",
        "colab_type": "code",
        "colab": {}
      },
      "source": [
        "# 5.8.2 NIN模型\n",
        "# NiN去掉了AlexNet最后的3个全连接层，取而代之地，NiN使用了输出通道数等于标签类别数的NiN块，\n",
        "# 然后使用全局平均池化层对每个通道中所有元素求平均并直接用于分类。这里的全局平均池化层即窗口形状\n",
        "# 等于输入空间维形状的平均池化层。NiN的这个设计的好处是可以显著减小模型参数尺寸，从而缓解过拟合。\n",
        "class GlobalAvgPool2d(nn.Module):\n",
        "  # 全局平均池化层可通过将池化窗口形状设置成输入的高和宽实现\n",
        "  def __init__(self):\n",
        "    super(GlobalAvgPool2d,self).__init__()\n",
        "  def forward(self, x):\n",
        "    return F.avg_pool2d(x, kernel_size=x.size()[2:])\n",
        "  \n",
        "net = nn.Sequential(\n",
        "    nin_block(1, 96, kernel_size=11, stride=4, padding=0),\n",
        "    nn.MaxPool2d(kernel_size=3, stride=2),\n",
        "    nin_block(96, 256, kernel_size=5, stride=1, padding=2),\n",
        "    nn.MaxPool2d(kernel_size=3, stride=2),\n",
        "    nin_block(256, 384, kernel_size=3, stride=1, padding=1),\n",
        "    nn.MaxPool2d(kernel_size=3, stride=2),\n",
        "    nn.Dropout(0.5),\n",
        "    # 标签类别数是10\n",
        "    nin_block(384, 10, kernel_size=3, stride=1, padding=1),\n",
        "    GlobalAvgPool2d(),\n",
        "    FlattenLayer()\n",
        ")"
      ],
      "execution_count": 0,
      "outputs": []
    },
    {
      "cell_type": "code",
      "metadata": {
        "id": "uNFqN-pORvoa",
        "colab_type": "code",
        "outputId": "43d76ec2-534a-4d5a-c416-f1c805d1b406",
        "colab": {
          "base_uri": "https://localhost:8080/",
          "height": 193
        }
      },
      "source": [
        "X = torch.rand(1,1,224,224)\n",
        "for name, blk in net.named_children():\n",
        "  X = blk(X)\n",
        "  print(name, 'output shape:' ,X.shape)"
      ],
      "execution_count": 5,
      "outputs": [
        {
          "output_type": "stream",
          "text": [
            "0 output shape: torch.Size([1, 96, 54, 54])\n",
            "1 output shape: torch.Size([1, 96, 26, 26])\n",
            "2 output shape: torch.Size([1, 256, 26, 26])\n",
            "3 output shape: torch.Size([1, 256, 12, 12])\n",
            "4 output shape: torch.Size([1, 384, 12, 12])\n",
            "5 output shape: torch.Size([1, 384, 5, 5])\n",
            "6 output shape: torch.Size([1, 384, 5, 5])\n",
            "7 output shape: torch.Size([1, 10, 5, 5])\n",
            "8 output shape: torch.Size([1, 10, 1, 1])\n",
            "9 output shape: torch.Size([1, 10])\n"
          ],
          "name": "stdout"
        }
      ]
    },
    {
      "cell_type": "code",
      "metadata": {
        "id": "awc4I4mxSCIX",
        "colab_type": "code",
        "colab": {}
      },
      "source": [
        "def load_data_fashion_mnist(batch_size, resize=None):\n",
        "  trans = []\n",
        "  if resize:\n",
        "    trans.append(torchvision.transforms.Resize(size=resize))\n",
        "  trans.append(torchvision.transforms.ToTensor())\n",
        "\n",
        "  transform = torchvision.transforms.Compose(trans)\n",
        "  mnist_train = torchvision.datasets.FashionMNIST(root='~/Datasets/FashionMNIST',train=True,transform=transform,download=True)\n",
        "  mnist_test = torchvision.datasets.FashionMNIST(root='~/Datasets/FashionMNIST',train=False,transform=transform,download=True)\n",
        "\n",
        "  train_iter = torch.utils.data.DataLoader(mnist_train,batch_size=batch_size,shuffle=True,num_workers=4)\n",
        "  test_iter = torch.utils.data.DataLoader(mnist_test,batch_size=batch_size,shuffle=False,num_workers=4)\n",
        "  return train_iter, test_iter\n",
        "\n",
        "\n"
      ],
      "execution_count": 0,
      "outputs": []
    },
    {
      "cell_type": "code",
      "metadata": {
        "id": "FpmK5EPHmqnm",
        "colab_type": "code",
        "colab": {
          "base_uri": "https://localhost:8080/",
          "height": 391,
          "referenced_widgets": [
            "d52f8ae11aaf4f6f9f6f194c229350fa",
            "22670622917f467cb0281deb42c58845",
            "75285267b4d34ac8be973825435a2cfa",
            "b827aad3002941098bc3422b8717b63e",
            "a8cfc83979164afb993ea0831b6155d1",
            "454a60e7a19248688f55e8d48486d07b",
            "8b40cda8f4a842ceb8089fd3ebc7ae11",
            "a229c4a213ac40c38e8751cbd3706e30",
            "652e8fe6029b43188d27753e8c8bbdaf",
            "0a9981da825c49b8af2f4e18f206debd",
            "f09972f9ec894e2293846f054a89beec",
            "395308f02bfd4a7899688e52e3cb6bde",
            "10191ed761774552b0c563c0190e3bb8",
            "223dfb69c1e24de8be653c80319efa22",
            "b437ce485f2e4dd2862eee5444cd28ab",
            "0d5088cf87974b0ea1705e5b5d105601",
            "583e9ee314f047bdb99d686124cb783a",
            "e92a626a796e47a69d7551e2830ecbf8",
            "e18c170df9d24345b714210212cdc28f",
            "1294049bd2b94f17a67ee8dcb4f5aa26",
            "681c7d5350e14529bf526feaf563cf50",
            "376114d0baec4b328ee7f421c822b03b",
            "4c516aae19c6408a8cceb02b4b4e0834",
            "59a7cddb654c41e6b67decaf621d8d77",
            "02598d7363da48e1929448f5fa1647be",
            "979c6a98f7ae45d689e87f73a18f3d37",
            "5a7346886b8f4af897f38f0c21755136",
            "d81aa8df879a458ca499ef284d55a8ee",
            "78bd5ac6065f4be3a14de4606a841081",
            "3095af5d646844c8a506569a727f8a5a",
            "ca87cf598da0477d92b4ccc00279392c",
            "8c02232cdd8148bab8d0831670a1e584"
          ]
        },
        "outputId": "d80b8683-37a8-43ac-ba4c-3c149b9cfdeb"
      },
      "source": [
        "batch_size = 128\n",
        "train_iter, test_iter = load_data_fashion_mnist(batch_size,resize=224)\n",
        "\n",
        "lr = 0.002\n",
        "num_epochs = 5\n",
        "optimizer = torch.optim.Adam(net.parameters(),lr=lr)\n"
      ],
      "execution_count": 9,
      "outputs": [
        {
          "output_type": "stream",
          "text": [
            "Downloading http://fashion-mnist.s3-website.eu-central-1.amazonaws.com/train-images-idx3-ubyte.gz to /root/Datasets/FashionMNIST/FashionMNIST/raw/train-images-idx3-ubyte.gz\n"
          ],
          "name": "stdout"
        },
        {
          "output_type": "display_data",
          "data": {
            "application/vnd.jupyter.widget-view+json": {
              "model_id": "d52f8ae11aaf4f6f9f6f194c229350fa",
              "version_minor": 0,
              "version_major": 2
            },
            "text/plain": [
              "HBox(children=(IntProgress(value=1, bar_style='info', max=1), HTML(value='')))"
            ]
          },
          "metadata": {
            "tags": []
          }
        },
        {
          "output_type": "stream",
          "text": [
            "\n",
            "Extracting /root/Datasets/FashionMNIST/FashionMNIST/raw/train-images-idx3-ubyte.gz to /root/Datasets/FashionMNIST/FashionMNIST/raw\n",
            "Downloading http://fashion-mnist.s3-website.eu-central-1.amazonaws.com/train-labels-idx1-ubyte.gz to /root/Datasets/FashionMNIST/FashionMNIST/raw/train-labels-idx1-ubyte.gz\n"
          ],
          "name": "stdout"
        },
        {
          "output_type": "display_data",
          "data": {
            "application/vnd.jupyter.widget-view+json": {
              "model_id": "652e8fe6029b43188d27753e8c8bbdaf",
              "version_minor": 0,
              "version_major": 2
            },
            "text/plain": [
              "HBox(children=(IntProgress(value=1, bar_style='info', max=1), HTML(value='')))"
            ]
          },
          "metadata": {
            "tags": []
          }
        },
        {
          "output_type": "stream",
          "text": [
            "\n",
            "Extracting /root/Datasets/FashionMNIST/FashionMNIST/raw/train-labels-idx1-ubyte.gz to /root/Datasets/FashionMNIST/FashionMNIST/raw\n",
            "Downloading http://fashion-mnist.s3-website.eu-central-1.amazonaws.com/t10k-images-idx3-ubyte.gz to /root/Datasets/FashionMNIST/FashionMNIST/raw/t10k-images-idx3-ubyte.gz\n"
          ],
          "name": "stdout"
        },
        {
          "output_type": "display_data",
          "data": {
            "application/vnd.jupyter.widget-view+json": {
              "model_id": "583e9ee314f047bdb99d686124cb783a",
              "version_minor": 0,
              "version_major": 2
            },
            "text/plain": [
              "HBox(children=(IntProgress(value=1, bar_style='info', max=1), HTML(value='')))"
            ]
          },
          "metadata": {
            "tags": []
          }
        },
        {
          "output_type": "stream",
          "text": [
            "\n",
            "Extracting /root/Datasets/FashionMNIST/FashionMNIST/raw/t10k-images-idx3-ubyte.gz to /root/Datasets/FashionMNIST/FashionMNIST/raw\n",
            "Downloading http://fashion-mnist.s3-website.eu-central-1.amazonaws.com/t10k-labels-idx1-ubyte.gz to /root/Datasets/FashionMNIST/FashionMNIST/raw/t10k-labels-idx1-ubyte.gz\n"
          ],
          "name": "stdout"
        },
        {
          "output_type": "display_data",
          "data": {
            "application/vnd.jupyter.widget-view+json": {
              "model_id": "02598d7363da48e1929448f5fa1647be",
              "version_minor": 0,
              "version_major": 2
            },
            "text/plain": [
              "HBox(children=(IntProgress(value=1, bar_style='info', max=1), HTML(value='')))"
            ]
          },
          "metadata": {
            "tags": []
          }
        },
        {
          "output_type": "stream",
          "text": [
            "\n",
            "Extracting /root/Datasets/FashionMNIST/FashionMNIST/raw/t10k-labels-idx1-ubyte.gz to /root/Datasets/FashionMNIST/FashionMNIST/raw\n",
            "Processing...\n",
            "Done!\n"
          ],
          "name": "stdout"
        }
      ]
    },
    {
      "cell_type": "code",
      "metadata": {
        "id": "oJOvgWj8nJQu",
        "colab_type": "code",
        "colab": {}
      },
      "source": [
        "def evaluate_accuracy(data_iter, net, device = torch.device('cuda' if torch.cuda.is_available() else 'cpu')):\n",
        "  acc_sum, n =0.0, 0\n",
        "  with torch.no_grad():\n",
        "    for X,y in data_iter:\n",
        "      if isinstance(net, torch.nn.Module):\n",
        "        net.eval()   # 评估模式，这回关闭dropout\n",
        "        acc_sum += (net(X.to(device)).argmax(dim=1) == y.to(device)).float().sum().cpu().item()\n",
        "        net.train()  # 改回训练模式\n",
        "      else:\n",
        "        if('is_training' in net.__code__.co_varnames):\n",
        "          acc_sum += (net(X,is_training=False).argmax(dim=1) == y).float().sum().item()\n",
        "        else:\n",
        "          acc_sum += (net(X).argmax(dim=1) == y).float().sum().item()\n",
        "      n += y.shape[0]\n",
        "  return acc_sum / n"
      ],
      "execution_count": 0,
      "outputs": []
    },
    {
      "cell_type": "code",
      "metadata": {
        "id": "-bDF_f8knUut",
        "colab_type": "code",
        "colab": {}
      },
      "source": [
        "def train_ch5(net, train_iter, test_iter, batch_size, optimizer, device, num_epochs):\n",
        "  net = net.to(device)\n",
        "  print(\"training on \",device)\n",
        "  loss = torch.nn.CrossEntropyLoss()\n",
        "  batch_count = 0\n",
        "  for epoch in range(num_epochs):\n",
        "    train_l_sum, train_acc_sum, n, start = 0.0, 0.0, 0, time.time()\n",
        "    for X,y in train_iter:\n",
        "      X = X.to(device)\n",
        "      y = y.to(device)\n",
        "      y_hat = net(X)\n",
        "      l = loss(y_hat,y)\n",
        "      optimizer.zero_grad()\n",
        "      l.backward()\n",
        "      optimizer.step()\n",
        "      train_l_sum += l.cpu().item()\n",
        "      train_acc_sum +=(y_hat.argmax(dim=1) == y).sum().cpu().item()\n",
        "      n += y.shape[0]\n",
        "      batch_count +=1\n",
        "    test_acc = evaluate_accuracy(test_iter, net)\n",
        "    print('epoch %d, loss %.4f, train acc %.3f, test acc %.3f,time %.1f sec'% (epoch + 1, train_l_sum / batch_count,train_acc_sum / n, test_acc, time.time() - start))"
      ],
      "execution_count": 0,
      "outputs": []
    },
    {
      "cell_type": "code",
      "metadata": {
        "id": "QvdmQxzDnWxb",
        "colab_type": "code",
        "colab": {
          "base_uri": "https://localhost:8080/",
          "height": 122
        },
        "outputId": "5658cbbf-0b68-4dfc-f0d6-666c047a2e8c"
      },
      "source": [
        "train_ch5(net,train_iter,test_iter,batch_size,optimizer,device,num_epochs)"
      ],
      "execution_count": 13,
      "outputs": [
        {
          "output_type": "stream",
          "text": [
            "training on  cuda\n",
            "epoch 1, loss 1.2168, train acc 0.556, test acc 0.742,time 64.8 sec\n",
            "epoch 2, loss 0.2944, train acc 0.788, test acc 0.819,time 68.3 sec\n",
            "epoch 3, loss 0.1579, train acc 0.827, test acc 0.839,time 68.0 sec\n",
            "epoch 4, loss 0.1080, train acc 0.842, test acc 0.839,time 68.1 sec\n",
            "epoch 5, loss 0.0790, train acc 0.856, test acc 0.858,time 68.1 sec\n"
          ],
          "name": "stdout"
        }
      ]
    },
    {
      "cell_type": "code",
      "metadata": {
        "id": "nDBEanDOniUP",
        "colab_type": "code",
        "colab": {}
      },
      "source": [
        ""
      ],
      "execution_count": 0,
      "outputs": []
    }
  ]
}