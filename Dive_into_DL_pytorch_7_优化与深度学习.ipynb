{
  "nbformat": 4,
  "nbformat_minor": 0,
  "metadata": {
    "colab": {
      "name": "Dive-into-DL-pytorch-7-优化与深度学习.ipynb",
      "provenance": [],
      "authorship_tag": "ABX9TyM0XjcaXtspUMlXAOFdMVxB",
      "include_colab_link": true
    },
    "kernelspec": {
      "name": "python3",
      "display_name": "Python 3"
    },
    "accelerator": "GPU"
  },
  "cells": [
    {
      "cell_type": "markdown",
      "metadata": {
        "id": "view-in-github",
        "colab_type": "text"
      },
      "source": [
        "<a href=\"https://colab.research.google.com/github/sakurasakura1996/Pytorch-start-learning/blob/master/Dive_into_DL_pytorch_7_%E4%BC%98%E5%8C%96%E4%B8%8E%E6%B7%B1%E5%BA%A6%E5%AD%A6%E4%B9%A0.ipynb\" target=\"_parent\"><img src=\"https://colab.research.google.com/assets/colab-badge.svg\" alt=\"Open In Colab\"/></a>"
      ]
    },
    {
      "cell_type": "code",
      "metadata": {
        "id": "1udHdHrIhdpu",
        "colab_type": "code",
        "colab": {}
      },
      "source": [
        "# 优化在深度学习中的挑战\n",
        "%matplotlib inline\n",
        "\n",
        "from mpl_toolkits import mplot3d   # 三维画图\n",
        "import numpy as np\n"
      ],
      "execution_count": 0,
      "outputs": []
    },
    {
      "cell_type": "code",
      "metadata": {
        "id": "UBQDxw-Yh_Mt",
        "colab_type": "code",
        "colab": {}
      },
      "source": [
        "# 局部最小值\n",
        "# 对于目标函数f(x).如果f(x)在x上的值比在x邻近的其他点的值更小，那么f(x)可能是一个局部最小值。如果在x上的值是定义域内的最小值，那就是全局最小值,举个例子 f(x) = x*cos(pi*x) \n",
        "# 我们可以大致找出该函数的局部最小值和全局最小值的位置。 我们可以大致找出该函数的局部和全局最小值位置。在深度学习中，虽然找到目标函数的全局最优解很难，但这并非必要，我们将逐一介绍深度学习中常用的优化算法。\n",
        "# 7.2 梯度下降和随机梯度下降\n",
        "# gradient descent，虽然梯度下降在深度学习中很少被直接使用，但是理解梯度的意义以及沿着梯度反方向更新自变量可能降低目标函数值的原因是学习后续优化算法的基础。后面会引出随机梯度下降"
      ],
      "execution_count": 0,
      "outputs": []
    },
    {
      "cell_type": "code",
      "metadata": {
        "id": "hejLmN55GRyH",
        "colab_type": "code",
        "colab": {}
      },
      "source": [
        "# 一维梯度下降\n"
      ],
      "execution_count": 0,
      "outputs": []
    }
  ]
}