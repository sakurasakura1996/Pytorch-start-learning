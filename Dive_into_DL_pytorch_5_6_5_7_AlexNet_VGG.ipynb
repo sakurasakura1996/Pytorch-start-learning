{
  "nbformat": 4,
  "nbformat_minor": 0,
  "metadata": {
    "colab": {
      "name": "Dive-into-DL-pytorch-5.6-5.7-AlexNet-VGG.ipynb",
      "provenance": [],
      "toc_visible": true,
      "authorship_tag": "ABX9TyPLS+aL01/Ay4F5/GW0UvAh",
      "include_colab_link": true
    },
    "kernelspec": {
      "name": "python3",
      "display_name": "Python 3"
    },
    "accelerator": "GPU",
    "widgets": {
      "application/vnd.jupyter.widget-state+json": {
        "dd8232a304194a3eabe9c30b710b1716": {
          "model_module": "@jupyter-widgets/controls",
          "model_name": "HBoxModel",
          "state": {
            "_view_name": "HBoxView",
            "_dom_classes": [],
            "_model_name": "HBoxModel",
            "_view_module": "@jupyter-widgets/controls",
            "_model_module_version": "1.5.0",
            "_view_count": null,
            "_view_module_version": "1.5.0",
            "box_style": "",
            "layout": "IPY_MODEL_8b3d30caf9ab4c6e86f63d3e4d69f176",
            "_model_module": "@jupyter-widgets/controls",
            "children": [
              "IPY_MODEL_85fad95d1c49415197982ccad5085e37",
              "IPY_MODEL_36a95a4caa754470b594f08135496494"
            ]
          }
        },
        "8b3d30caf9ab4c6e86f63d3e4d69f176": {
          "model_module": "@jupyter-widgets/base",
          "model_name": "LayoutModel",
          "state": {
            "_view_name": "LayoutView",
            "grid_template_rows": null,
            "right": null,
            "justify_content": null,
            "_view_module": "@jupyter-widgets/base",
            "overflow": null,
            "_model_module_version": "1.2.0",
            "_view_count": null,
            "flex_flow": null,
            "width": null,
            "min_width": null,
            "border": null,
            "align_items": null,
            "bottom": null,
            "_model_module": "@jupyter-widgets/base",
            "top": null,
            "grid_column": null,
            "overflow_y": null,
            "overflow_x": null,
            "grid_auto_flow": null,
            "grid_area": null,
            "grid_template_columns": null,
            "flex": null,
            "_model_name": "LayoutModel",
            "justify_items": null,
            "grid_row": null,
            "max_height": null,
            "align_content": null,
            "visibility": null,
            "align_self": null,
            "height": null,
            "min_height": null,
            "padding": null,
            "grid_auto_rows": null,
            "grid_gap": null,
            "max_width": null,
            "order": null,
            "_view_module_version": "1.2.0",
            "grid_template_areas": null,
            "object_position": null,
            "object_fit": null,
            "grid_auto_columns": null,
            "margin": null,
            "display": null,
            "left": null
          }
        },
        "85fad95d1c49415197982ccad5085e37": {
          "model_module": "@jupyter-widgets/controls",
          "model_name": "IntProgressModel",
          "state": {
            "_view_name": "ProgressView",
            "style": "IPY_MODEL_387719776827456eab112afb9bf4d00b",
            "_dom_classes": [],
            "description": "",
            "_model_name": "IntProgressModel",
            "bar_style": "success",
            "max": 1,
            "_view_module": "@jupyter-widgets/controls",
            "_model_module_version": "1.5.0",
            "value": 1,
            "_view_count": null,
            "_view_module_version": "1.5.0",
            "orientation": "horizontal",
            "min": 0,
            "description_tooltip": null,
            "_model_module": "@jupyter-widgets/controls",
            "layout": "IPY_MODEL_baeaaf026e8449358a5524f7e0a47c88"
          }
        },
        "36a95a4caa754470b594f08135496494": {
          "model_module": "@jupyter-widgets/controls",
          "model_name": "HTMLModel",
          "state": {
            "_view_name": "HTMLView",
            "style": "IPY_MODEL_5af5f8d0eae341f1add8c489c50b97af",
            "_dom_classes": [],
            "description": "",
            "_model_name": "HTMLModel",
            "placeholder": "​",
            "_view_module": "@jupyter-widgets/controls",
            "_model_module_version": "1.5.0",
            "value": "26427392it [00:00, 79255098.19it/s]",
            "_view_count": null,
            "_view_module_version": "1.5.0",
            "description_tooltip": null,
            "_model_module": "@jupyter-widgets/controls",
            "layout": "IPY_MODEL_472556a7a4814cd89cb5d177b2558743"
          }
        },
        "387719776827456eab112afb9bf4d00b": {
          "model_module": "@jupyter-widgets/controls",
          "model_name": "ProgressStyleModel",
          "state": {
            "_view_name": "StyleView",
            "_model_name": "ProgressStyleModel",
            "description_width": "",
            "_view_module": "@jupyter-widgets/base",
            "_model_module_version": "1.5.0",
            "_view_count": null,
            "_view_module_version": "1.2.0",
            "bar_color": null,
            "_model_module": "@jupyter-widgets/controls"
          }
        },
        "baeaaf026e8449358a5524f7e0a47c88": {
          "model_module": "@jupyter-widgets/base",
          "model_name": "LayoutModel",
          "state": {
            "_view_name": "LayoutView",
            "grid_template_rows": null,
            "right": null,
            "justify_content": null,
            "_view_module": "@jupyter-widgets/base",
            "overflow": null,
            "_model_module_version": "1.2.0",
            "_view_count": null,
            "flex_flow": null,
            "width": null,
            "min_width": null,
            "border": null,
            "align_items": null,
            "bottom": null,
            "_model_module": "@jupyter-widgets/base",
            "top": null,
            "grid_column": null,
            "overflow_y": null,
            "overflow_x": null,
            "grid_auto_flow": null,
            "grid_area": null,
            "grid_template_columns": null,
            "flex": null,
            "_model_name": "LayoutModel",
            "justify_items": null,
            "grid_row": null,
            "max_height": null,
            "align_content": null,
            "visibility": null,
            "align_self": null,
            "height": null,
            "min_height": null,
            "padding": null,
            "grid_auto_rows": null,
            "grid_gap": null,
            "max_width": null,
            "order": null,
            "_view_module_version": "1.2.0",
            "grid_template_areas": null,
            "object_position": null,
            "object_fit": null,
            "grid_auto_columns": null,
            "margin": null,
            "display": null,
            "left": null
          }
        },
        "5af5f8d0eae341f1add8c489c50b97af": {
          "model_module": "@jupyter-widgets/controls",
          "model_name": "DescriptionStyleModel",
          "state": {
            "_view_name": "StyleView",
            "_model_name": "DescriptionStyleModel",
            "description_width": "",
            "_view_module": "@jupyter-widgets/base",
            "_model_module_version": "1.5.0",
            "_view_count": null,
            "_view_module_version": "1.2.0",
            "_model_module": "@jupyter-widgets/controls"
          }
        },
        "472556a7a4814cd89cb5d177b2558743": {
          "model_module": "@jupyter-widgets/base",
          "model_name": "LayoutModel",
          "state": {
            "_view_name": "LayoutView",
            "grid_template_rows": null,
            "right": null,
            "justify_content": null,
            "_view_module": "@jupyter-widgets/base",
            "overflow": null,
            "_model_module_version": "1.2.0",
            "_view_count": null,
            "flex_flow": null,
            "width": null,
            "min_width": null,
            "border": null,
            "align_items": null,
            "bottom": null,
            "_model_module": "@jupyter-widgets/base",
            "top": null,
            "grid_column": null,
            "overflow_y": null,
            "overflow_x": null,
            "grid_auto_flow": null,
            "grid_area": null,
            "grid_template_columns": null,
            "flex": null,
            "_model_name": "LayoutModel",
            "justify_items": null,
            "grid_row": null,
            "max_height": null,
            "align_content": null,
            "visibility": null,
            "align_self": null,
            "height": null,
            "min_height": null,
            "padding": null,
            "grid_auto_rows": null,
            "grid_gap": null,
            "max_width": null,
            "order": null,
            "_view_module_version": "1.2.0",
            "grid_template_areas": null,
            "object_position": null,
            "object_fit": null,
            "grid_auto_columns": null,
            "margin": null,
            "display": null,
            "left": null
          }
        },
        "a1fa5e4090204f34bd5310d11fa6b3a1": {
          "model_module": "@jupyter-widgets/controls",
          "model_name": "HBoxModel",
          "state": {
            "_view_name": "HBoxView",
            "_dom_classes": [],
            "_model_name": "HBoxModel",
            "_view_module": "@jupyter-widgets/controls",
            "_model_module_version": "1.5.0",
            "_view_count": null,
            "_view_module_version": "1.5.0",
            "box_style": "",
            "layout": "IPY_MODEL_36f1c107214041028840015176823332",
            "_model_module": "@jupyter-widgets/controls",
            "children": [
              "IPY_MODEL_772a073e69ee4d9b8899d604c34e9151",
              "IPY_MODEL_e737cee00ee444478f2bde29df6afba5"
            ]
          }
        },
        "36f1c107214041028840015176823332": {
          "model_module": "@jupyter-widgets/base",
          "model_name": "LayoutModel",
          "state": {
            "_view_name": "LayoutView",
            "grid_template_rows": null,
            "right": null,
            "justify_content": null,
            "_view_module": "@jupyter-widgets/base",
            "overflow": null,
            "_model_module_version": "1.2.0",
            "_view_count": null,
            "flex_flow": null,
            "width": null,
            "min_width": null,
            "border": null,
            "align_items": null,
            "bottom": null,
            "_model_module": "@jupyter-widgets/base",
            "top": null,
            "grid_column": null,
            "overflow_y": null,
            "overflow_x": null,
            "grid_auto_flow": null,
            "grid_area": null,
            "grid_template_columns": null,
            "flex": null,
            "_model_name": "LayoutModel",
            "justify_items": null,
            "grid_row": null,
            "max_height": null,
            "align_content": null,
            "visibility": null,
            "align_self": null,
            "height": null,
            "min_height": null,
            "padding": null,
            "grid_auto_rows": null,
            "grid_gap": null,
            "max_width": null,
            "order": null,
            "_view_module_version": "1.2.0",
            "grid_template_areas": null,
            "object_position": null,
            "object_fit": null,
            "grid_auto_columns": null,
            "margin": null,
            "display": null,
            "left": null
          }
        },
        "772a073e69ee4d9b8899d604c34e9151": {
          "model_module": "@jupyter-widgets/controls",
          "model_name": "IntProgressModel",
          "state": {
            "_view_name": "ProgressView",
            "style": "IPY_MODEL_45bf1fc85b9d4838923383387e95bb71",
            "_dom_classes": [],
            "description": "",
            "_model_name": "IntProgressModel",
            "bar_style": "success",
            "max": 1,
            "_view_module": "@jupyter-widgets/controls",
            "_model_module_version": "1.5.0",
            "value": 1,
            "_view_count": null,
            "_view_module_version": "1.5.0",
            "orientation": "horizontal",
            "min": 0,
            "description_tooltip": null,
            "_model_module": "@jupyter-widgets/controls",
            "layout": "IPY_MODEL_40e405674ee8489cbffd3123c57ad5ec"
          }
        },
        "e737cee00ee444478f2bde29df6afba5": {
          "model_module": "@jupyter-widgets/controls",
          "model_name": "HTMLModel",
          "state": {
            "_view_name": "HTMLView",
            "style": "IPY_MODEL_a68e8d2f82784982bd2ee4e4415bd714",
            "_dom_classes": [],
            "description": "",
            "_model_name": "HTMLModel",
            "placeholder": "​",
            "_view_module": "@jupyter-widgets/controls",
            "_model_module_version": "1.5.0",
            "value": "32768it [00:00, 360235.77it/s]",
            "_view_count": null,
            "_view_module_version": "1.5.0",
            "description_tooltip": null,
            "_model_module": "@jupyter-widgets/controls",
            "layout": "IPY_MODEL_ef518bdb0f184476bdb91965534f4b63"
          }
        },
        "45bf1fc85b9d4838923383387e95bb71": {
          "model_module": "@jupyter-widgets/controls",
          "model_name": "ProgressStyleModel",
          "state": {
            "_view_name": "StyleView",
            "_model_name": "ProgressStyleModel",
            "description_width": "",
            "_view_module": "@jupyter-widgets/base",
            "_model_module_version": "1.5.0",
            "_view_count": null,
            "_view_module_version": "1.2.0",
            "bar_color": null,
            "_model_module": "@jupyter-widgets/controls"
          }
        },
        "40e405674ee8489cbffd3123c57ad5ec": {
          "model_module": "@jupyter-widgets/base",
          "model_name": "LayoutModel",
          "state": {
            "_view_name": "LayoutView",
            "grid_template_rows": null,
            "right": null,
            "justify_content": null,
            "_view_module": "@jupyter-widgets/base",
            "overflow": null,
            "_model_module_version": "1.2.0",
            "_view_count": null,
            "flex_flow": null,
            "width": null,
            "min_width": null,
            "border": null,
            "align_items": null,
            "bottom": null,
            "_model_module": "@jupyter-widgets/base",
            "top": null,
            "grid_column": null,
            "overflow_y": null,
            "overflow_x": null,
            "grid_auto_flow": null,
            "grid_area": null,
            "grid_template_columns": null,
            "flex": null,
            "_model_name": "LayoutModel",
            "justify_items": null,
            "grid_row": null,
            "max_height": null,
            "align_content": null,
            "visibility": null,
            "align_self": null,
            "height": null,
            "min_height": null,
            "padding": null,
            "grid_auto_rows": null,
            "grid_gap": null,
            "max_width": null,
            "order": null,
            "_view_module_version": "1.2.0",
            "grid_template_areas": null,
            "object_position": null,
            "object_fit": null,
            "grid_auto_columns": null,
            "margin": null,
            "display": null,
            "left": null
          }
        },
        "a68e8d2f82784982bd2ee4e4415bd714": {
          "model_module": "@jupyter-widgets/controls",
          "model_name": "DescriptionStyleModel",
          "state": {
            "_view_name": "StyleView",
            "_model_name": "DescriptionStyleModel",
            "description_width": "",
            "_view_module": "@jupyter-widgets/base",
            "_model_module_version": "1.5.0",
            "_view_count": null,
            "_view_module_version": "1.2.0",
            "_model_module": "@jupyter-widgets/controls"
          }
        },
        "ef518bdb0f184476bdb91965534f4b63": {
          "model_module": "@jupyter-widgets/base",
          "model_name": "LayoutModel",
          "state": {
            "_view_name": "LayoutView",
            "grid_template_rows": null,
            "right": null,
            "justify_content": null,
            "_view_module": "@jupyter-widgets/base",
            "overflow": null,
            "_model_module_version": "1.2.0",
            "_view_count": null,
            "flex_flow": null,
            "width": null,
            "min_width": null,
            "border": null,
            "align_items": null,
            "bottom": null,
            "_model_module": "@jupyter-widgets/base",
            "top": null,
            "grid_column": null,
            "overflow_y": null,
            "overflow_x": null,
            "grid_auto_flow": null,
            "grid_area": null,
            "grid_template_columns": null,
            "flex": null,
            "_model_name": "LayoutModel",
            "justify_items": null,
            "grid_row": null,
            "max_height": null,
            "align_content": null,
            "visibility": null,
            "align_self": null,
            "height": null,
            "min_height": null,
            "padding": null,
            "grid_auto_rows": null,
            "grid_gap": null,
            "max_width": null,
            "order": null,
            "_view_module_version": "1.2.0",
            "grid_template_areas": null,
            "object_position": null,
            "object_fit": null,
            "grid_auto_columns": null,
            "margin": null,
            "display": null,
            "left": null
          }
        },
        "b9baa25d85d54cb29314b2cea891cae3": {
          "model_module": "@jupyter-widgets/controls",
          "model_name": "HBoxModel",
          "state": {
            "_view_name": "HBoxView",
            "_dom_classes": [],
            "_model_name": "HBoxModel",
            "_view_module": "@jupyter-widgets/controls",
            "_model_module_version": "1.5.0",
            "_view_count": null,
            "_view_module_version": "1.5.0",
            "box_style": "",
            "layout": "IPY_MODEL_010bc11d67724608a2055bb9609ff28b",
            "_model_module": "@jupyter-widgets/controls",
            "children": [
              "IPY_MODEL_5fb9002f788e4e078e75f7d6ce95e8c9",
              "IPY_MODEL_de5b3e9397e44c0e8cb4e44836aae211"
            ]
          }
        },
        "010bc11d67724608a2055bb9609ff28b": {
          "model_module": "@jupyter-widgets/base",
          "model_name": "LayoutModel",
          "state": {
            "_view_name": "LayoutView",
            "grid_template_rows": null,
            "right": null,
            "justify_content": null,
            "_view_module": "@jupyter-widgets/base",
            "overflow": null,
            "_model_module_version": "1.2.0",
            "_view_count": null,
            "flex_flow": null,
            "width": null,
            "min_width": null,
            "border": null,
            "align_items": null,
            "bottom": null,
            "_model_module": "@jupyter-widgets/base",
            "top": null,
            "grid_column": null,
            "overflow_y": null,
            "overflow_x": null,
            "grid_auto_flow": null,
            "grid_area": null,
            "grid_template_columns": null,
            "flex": null,
            "_model_name": "LayoutModel",
            "justify_items": null,
            "grid_row": null,
            "max_height": null,
            "align_content": null,
            "visibility": null,
            "align_self": null,
            "height": null,
            "min_height": null,
            "padding": null,
            "grid_auto_rows": null,
            "grid_gap": null,
            "max_width": null,
            "order": null,
            "_view_module_version": "1.2.0",
            "grid_template_areas": null,
            "object_position": null,
            "object_fit": null,
            "grid_auto_columns": null,
            "margin": null,
            "display": null,
            "left": null
          }
        },
        "5fb9002f788e4e078e75f7d6ce95e8c9": {
          "model_module": "@jupyter-widgets/controls",
          "model_name": "IntProgressModel",
          "state": {
            "_view_name": "ProgressView",
            "style": "IPY_MODEL_4c595fc52dc047ee81c060b228ec9298",
            "_dom_classes": [],
            "description": "",
            "_model_name": "IntProgressModel",
            "bar_style": "success",
            "max": 1,
            "_view_module": "@jupyter-widgets/controls",
            "_model_module_version": "1.5.0",
            "value": 1,
            "_view_count": null,
            "_view_module_version": "1.5.0",
            "orientation": "horizontal",
            "min": 0,
            "description_tooltip": null,
            "_model_module": "@jupyter-widgets/controls",
            "layout": "IPY_MODEL_cdee7f4c3807417b84e2847d9afb3fd6"
          }
        },
        "de5b3e9397e44c0e8cb4e44836aae211": {
          "model_module": "@jupyter-widgets/controls",
          "model_name": "HTMLModel",
          "state": {
            "_view_name": "HTMLView",
            "style": "IPY_MODEL_f601751b0558478688d91bb3ea35af67",
            "_dom_classes": [],
            "description": "",
            "_model_name": "HTMLModel",
            "placeholder": "​",
            "_view_module": "@jupyter-widgets/controls",
            "_model_module_version": "1.5.0",
            "value": "4423680it [00:00, 28633159.49it/s]",
            "_view_count": null,
            "_view_module_version": "1.5.0",
            "description_tooltip": null,
            "_model_module": "@jupyter-widgets/controls",
            "layout": "IPY_MODEL_5cc353eda134476e8ab8b0e09150eca2"
          }
        },
        "4c595fc52dc047ee81c060b228ec9298": {
          "model_module": "@jupyter-widgets/controls",
          "model_name": "ProgressStyleModel",
          "state": {
            "_view_name": "StyleView",
            "_model_name": "ProgressStyleModel",
            "description_width": "",
            "_view_module": "@jupyter-widgets/base",
            "_model_module_version": "1.5.0",
            "_view_count": null,
            "_view_module_version": "1.2.0",
            "bar_color": null,
            "_model_module": "@jupyter-widgets/controls"
          }
        },
        "cdee7f4c3807417b84e2847d9afb3fd6": {
          "model_module": "@jupyter-widgets/base",
          "model_name": "LayoutModel",
          "state": {
            "_view_name": "LayoutView",
            "grid_template_rows": null,
            "right": null,
            "justify_content": null,
            "_view_module": "@jupyter-widgets/base",
            "overflow": null,
            "_model_module_version": "1.2.0",
            "_view_count": null,
            "flex_flow": null,
            "width": null,
            "min_width": null,
            "border": null,
            "align_items": null,
            "bottom": null,
            "_model_module": "@jupyter-widgets/base",
            "top": null,
            "grid_column": null,
            "overflow_y": null,
            "overflow_x": null,
            "grid_auto_flow": null,
            "grid_area": null,
            "grid_template_columns": null,
            "flex": null,
            "_model_name": "LayoutModel",
            "justify_items": null,
            "grid_row": null,
            "max_height": null,
            "align_content": null,
            "visibility": null,
            "align_self": null,
            "height": null,
            "min_height": null,
            "padding": null,
            "grid_auto_rows": null,
            "grid_gap": null,
            "max_width": null,
            "order": null,
            "_view_module_version": "1.2.0",
            "grid_template_areas": null,
            "object_position": null,
            "object_fit": null,
            "grid_auto_columns": null,
            "margin": null,
            "display": null,
            "left": null
          }
        },
        "f601751b0558478688d91bb3ea35af67": {
          "model_module": "@jupyter-widgets/controls",
          "model_name": "DescriptionStyleModel",
          "state": {
            "_view_name": "StyleView",
            "_model_name": "DescriptionStyleModel",
            "description_width": "",
            "_view_module": "@jupyter-widgets/base",
            "_model_module_version": "1.5.0",
            "_view_count": null,
            "_view_module_version": "1.2.0",
            "_model_module": "@jupyter-widgets/controls"
          }
        },
        "5cc353eda134476e8ab8b0e09150eca2": {
          "model_module": "@jupyter-widgets/base",
          "model_name": "LayoutModel",
          "state": {
            "_view_name": "LayoutView",
            "grid_template_rows": null,
            "right": null,
            "justify_content": null,
            "_view_module": "@jupyter-widgets/base",
            "overflow": null,
            "_model_module_version": "1.2.0",
            "_view_count": null,
            "flex_flow": null,
            "width": null,
            "min_width": null,
            "border": null,
            "align_items": null,
            "bottom": null,
            "_model_module": "@jupyter-widgets/base",
            "top": null,
            "grid_column": null,
            "overflow_y": null,
            "overflow_x": null,
            "grid_auto_flow": null,
            "grid_area": null,
            "grid_template_columns": null,
            "flex": null,
            "_model_name": "LayoutModel",
            "justify_items": null,
            "grid_row": null,
            "max_height": null,
            "align_content": null,
            "visibility": null,
            "align_self": null,
            "height": null,
            "min_height": null,
            "padding": null,
            "grid_auto_rows": null,
            "grid_gap": null,
            "max_width": null,
            "order": null,
            "_view_module_version": "1.2.0",
            "grid_template_areas": null,
            "object_position": null,
            "object_fit": null,
            "grid_auto_columns": null,
            "margin": null,
            "display": null,
            "left": null
          }
        },
        "7a3a5ba697ef4ea5a16fbbcf765b3547": {
          "model_module": "@jupyter-widgets/controls",
          "model_name": "HBoxModel",
          "state": {
            "_view_name": "HBoxView",
            "_dom_classes": [],
            "_model_name": "HBoxModel",
            "_view_module": "@jupyter-widgets/controls",
            "_model_module_version": "1.5.0",
            "_view_count": null,
            "_view_module_version": "1.5.0",
            "box_style": "",
            "layout": "IPY_MODEL_580596dd9de84d49b96087fb0b809e7e",
            "_model_module": "@jupyter-widgets/controls",
            "children": [
              "IPY_MODEL_b4b1d43c73964f0e9ee187d92868dcad",
              "IPY_MODEL_2caeb85ce97449549b2e0f218fad9f33"
            ]
          }
        },
        "580596dd9de84d49b96087fb0b809e7e": {
          "model_module": "@jupyter-widgets/base",
          "model_name": "LayoutModel",
          "state": {
            "_view_name": "LayoutView",
            "grid_template_rows": null,
            "right": null,
            "justify_content": null,
            "_view_module": "@jupyter-widgets/base",
            "overflow": null,
            "_model_module_version": "1.2.0",
            "_view_count": null,
            "flex_flow": null,
            "width": null,
            "min_width": null,
            "border": null,
            "align_items": null,
            "bottom": null,
            "_model_module": "@jupyter-widgets/base",
            "top": null,
            "grid_column": null,
            "overflow_y": null,
            "overflow_x": null,
            "grid_auto_flow": null,
            "grid_area": null,
            "grid_template_columns": null,
            "flex": null,
            "_model_name": "LayoutModel",
            "justify_items": null,
            "grid_row": null,
            "max_height": null,
            "align_content": null,
            "visibility": null,
            "align_self": null,
            "height": null,
            "min_height": null,
            "padding": null,
            "grid_auto_rows": null,
            "grid_gap": null,
            "max_width": null,
            "order": null,
            "_view_module_version": "1.2.0",
            "grid_template_areas": null,
            "object_position": null,
            "object_fit": null,
            "grid_auto_columns": null,
            "margin": null,
            "display": null,
            "left": null
          }
        },
        "b4b1d43c73964f0e9ee187d92868dcad": {
          "model_module": "@jupyter-widgets/controls",
          "model_name": "IntProgressModel",
          "state": {
            "_view_name": "ProgressView",
            "style": "IPY_MODEL_b3bf8c4fee714dbfa0e1c6cf6dc54799",
            "_dom_classes": [],
            "description": "",
            "_model_name": "IntProgressModel",
            "bar_style": "success",
            "max": 1,
            "_view_module": "@jupyter-widgets/controls",
            "_model_module_version": "1.5.0",
            "value": 1,
            "_view_count": null,
            "_view_module_version": "1.5.0",
            "orientation": "horizontal",
            "min": 0,
            "description_tooltip": null,
            "_model_module": "@jupyter-widgets/controls",
            "layout": "IPY_MODEL_b412ae040c754196893b32bf1bb59b4e"
          }
        },
        "2caeb85ce97449549b2e0f218fad9f33": {
          "model_module": "@jupyter-widgets/controls",
          "model_name": "HTMLModel",
          "state": {
            "_view_name": "HTMLView",
            "style": "IPY_MODEL_720406212b8642558a339dbae4932bfe",
            "_dom_classes": [],
            "description": "",
            "_model_name": "HTMLModel",
            "placeholder": "​",
            "_view_module": "@jupyter-widgets/controls",
            "_model_module_version": "1.5.0",
            "value": "8192it [00:00, 136408.79it/s]",
            "_view_count": null,
            "_view_module_version": "1.5.0",
            "description_tooltip": null,
            "_model_module": "@jupyter-widgets/controls",
            "layout": "IPY_MODEL_a9a77b1449af4b999dd6192eec6d3176"
          }
        },
        "b3bf8c4fee714dbfa0e1c6cf6dc54799": {
          "model_module": "@jupyter-widgets/controls",
          "model_name": "ProgressStyleModel",
          "state": {
            "_view_name": "StyleView",
            "_model_name": "ProgressStyleModel",
            "description_width": "",
            "_view_module": "@jupyter-widgets/base",
            "_model_module_version": "1.5.0",
            "_view_count": null,
            "_view_module_version": "1.2.0",
            "bar_color": null,
            "_model_module": "@jupyter-widgets/controls"
          }
        },
        "b412ae040c754196893b32bf1bb59b4e": {
          "model_module": "@jupyter-widgets/base",
          "model_name": "LayoutModel",
          "state": {
            "_view_name": "LayoutView",
            "grid_template_rows": null,
            "right": null,
            "justify_content": null,
            "_view_module": "@jupyter-widgets/base",
            "overflow": null,
            "_model_module_version": "1.2.0",
            "_view_count": null,
            "flex_flow": null,
            "width": null,
            "min_width": null,
            "border": null,
            "align_items": null,
            "bottom": null,
            "_model_module": "@jupyter-widgets/base",
            "top": null,
            "grid_column": null,
            "overflow_y": null,
            "overflow_x": null,
            "grid_auto_flow": null,
            "grid_area": null,
            "grid_template_columns": null,
            "flex": null,
            "_model_name": "LayoutModel",
            "justify_items": null,
            "grid_row": null,
            "max_height": null,
            "align_content": null,
            "visibility": null,
            "align_self": null,
            "height": null,
            "min_height": null,
            "padding": null,
            "grid_auto_rows": null,
            "grid_gap": null,
            "max_width": null,
            "order": null,
            "_view_module_version": "1.2.0",
            "grid_template_areas": null,
            "object_position": null,
            "object_fit": null,
            "grid_auto_columns": null,
            "margin": null,
            "display": null,
            "left": null
          }
        },
        "720406212b8642558a339dbae4932bfe": {
          "model_module": "@jupyter-widgets/controls",
          "model_name": "DescriptionStyleModel",
          "state": {
            "_view_name": "StyleView",
            "_model_name": "DescriptionStyleModel",
            "description_width": "",
            "_view_module": "@jupyter-widgets/base",
            "_model_module_version": "1.5.0",
            "_view_count": null,
            "_view_module_version": "1.2.0",
            "_model_module": "@jupyter-widgets/controls"
          }
        },
        "a9a77b1449af4b999dd6192eec6d3176": {
          "model_module": "@jupyter-widgets/base",
          "model_name": "LayoutModel",
          "state": {
            "_view_name": "LayoutView",
            "grid_template_rows": null,
            "right": null,
            "justify_content": null,
            "_view_module": "@jupyter-widgets/base",
            "overflow": null,
            "_model_module_version": "1.2.0",
            "_view_count": null,
            "flex_flow": null,
            "width": null,
            "min_width": null,
            "border": null,
            "align_items": null,
            "bottom": null,
            "_model_module": "@jupyter-widgets/base",
            "top": null,
            "grid_column": null,
            "overflow_y": null,
            "overflow_x": null,
            "grid_auto_flow": null,
            "grid_area": null,
            "grid_template_columns": null,
            "flex": null,
            "_model_name": "LayoutModel",
            "justify_items": null,
            "grid_row": null,
            "max_height": null,
            "align_content": null,
            "visibility": null,
            "align_self": null,
            "height": null,
            "min_height": null,
            "padding": null,
            "grid_auto_rows": null,
            "grid_gap": null,
            "max_width": null,
            "order": null,
            "_view_module_version": "1.2.0",
            "grid_template_areas": null,
            "object_position": null,
            "object_fit": null,
            "grid_auto_columns": null,
            "margin": null,
            "display": null,
            "left": null
          }
        }
      }
    }
  },
  "cells": [
    {
      "cell_type": "markdown",
      "metadata": {
        "id": "view-in-github",
        "colab_type": "text"
      },
      "source": [
        "<a href=\"https://colab.research.google.com/github/sakurasakura1996/Pytorch-start-learning/blob/master/Dive_into_DL_pytorch_5_6_5_7_AlexNet_VGG.ipynb\" target=\"_parent\"><img src=\"https://colab.research.google.com/assets/colab-badge.svg\" alt=\"Open In Colab\"/></a>"
      ]
    },
    {
      "cell_type": "markdown",
      "metadata": {
        "id": "HpHRWTzyUy_6",
        "colab_type": "text"
      },
      "source": [
        "## 5.6.2 AlexNet\n",
        "![image.png](data:image/png;base64,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)\n",
        "AlexNet与LeNet设计理念相似，但也有显著区别：\n",
        "第一、与相对较小的LeNet相比，AlexNet包含8层变换，其中有5层卷积和2层全连接隐藏层，以及1个全连接输出层。\n",
        "第二、AlexNet将sigmoid函数改成了ReLU激活函数\n",
        "第三、AlexNet通过丢弃法来控制全连接层的模型复杂度。而LeNet并没有使用丢弃发\n",
        "第四、AlexNet引入了大量的图像增广，如翻转、裁剪和颜色变化，从而进一步扩大数据集来缓解过拟合\n",
        "下面实现稍微简化过的AlexNet\n"
      ]
    },
    {
      "cell_type": "code",
      "metadata": {
        "id": "Vw9z1y2NWde9",
        "colab_type": "code",
        "colab": {}
      },
      "source": [
        "import time\n",
        "import torch\n",
        "import torchvision\n",
        "from torch import nn, optim\n",
        "\n",
        "device = torch.device('cuda' if torch.cuda.is_available() else 'cpu')\n",
        "\n",
        "class AlexNet(nn.Module):\n",
        "  def __init__(self):\n",
        "    super(AlexNet,self).__init__()\n",
        "    self.conv = nn.Sequential(\n",
        "        nn.Conv2d(1,96,11,4),  # 输入通道， 输出通道， kernel_size, stride， padding\n",
        "        nn.ReLU(),\n",
        "        nn.MaxPool2d(3,2),    # kernel_size,  stride\n",
        "        nn.Conv2d(96, 256, 5, 1, 2),\n",
        "        nn.ReLU(),\n",
        "        nn.MaxPool2d(3, 2),\n",
        "        nn.Conv2d(256, 384, 3, 1, 1),   # 连续3个卷积层，且使用更小的卷积窗口。除了最后的卷积层外，进一步增大了输出通道\n",
        "        nn.ReLU(),   # 前两个卷积层后不使用池化层来减小输入的高和宽\n",
        "        nn.Conv2d(384, 384, 3, 1, 1),\n",
        "        nn.ReLU(),\n",
        "        nn.Conv2d(384, 256, 3, 1, 1),\n",
        "        nn.ReLU(),\n",
        "        nn.MaxPool2d(3, 2)\n",
        "    )\n",
        "    # 这里的全连接层的输出个数比Lenet中的大数倍。使用丢弃层来缓解过拟合\n",
        "    self.fc = nn.Sequential(\n",
        "        nn.Linear(256*5*5, 4096),\n",
        "        nn.ReLU(),\n",
        "        nn.Dropout(0.5),\n",
        "        nn.Linear(4096, 4096),\n",
        "        nn.ReLU(),\n",
        "        nn.Dropout(0.5),\n",
        "        # 输出层  这里改掉，因为输出类别为10 而不是原来的1000\n",
        "        nn.Linear(4096, 10),\n",
        "    )\n",
        "  def forward(self, img):\n",
        "    feature = self.conv(img)\n",
        "    output = self.fc(feature.view(img.shape[0],-1))\n",
        "    return output"
      ],
      "execution_count": 0,
      "outputs": []
    },
    {
      "cell_type": "code",
      "metadata": {
        "id": "E1JPcoZIaTZr",
        "colab_type": "code",
        "outputId": "207b7f90-605d-4f10-98d4-7ad0f2b3c3cc",
        "colab": {
          "base_uri": "https://localhost:8080/",
          "height": 494
        }
      },
      "source": [
        "net = AlexNet()\n",
        "print(net)"
      ],
      "execution_count": 2,
      "outputs": [
        {
          "output_type": "stream",
          "text": [
            "AlexNet(\n",
            "  (conv): Sequential(\n",
            "    (0): Conv2d(1, 96, kernel_size=(11, 11), stride=(4, 4))\n",
            "    (1): ReLU()\n",
            "    (2): MaxPool2d(kernel_size=3, stride=2, padding=0, dilation=1, ceil_mode=False)\n",
            "    (3): Conv2d(96, 256, kernel_size=(5, 5), stride=(1, 1), padding=(2, 2))\n",
            "    (4): ReLU()\n",
            "    (5): MaxPool2d(kernel_size=3, stride=2, padding=0, dilation=1, ceil_mode=False)\n",
            "    (6): Conv2d(256, 384, kernel_size=(3, 3), stride=(1, 1), padding=(1, 1))\n",
            "    (7): ReLU()\n",
            "    (8): Conv2d(384, 384, kernel_size=(3, 3), stride=(1, 1), padding=(1, 1))\n",
            "    (9): ReLU()\n",
            "    (10): Conv2d(384, 256, kernel_size=(3, 3), stride=(1, 1), padding=(1, 1))\n",
            "    (11): ReLU()\n",
            "    (12): MaxPool2d(kernel_size=3, stride=2, padding=0, dilation=1, ceil_mode=False)\n",
            "  )\n",
            "  (fc): Sequential(\n",
            "    (0): Linear(in_features=6400, out_features=4096, bias=True)\n",
            "    (1): ReLU()\n",
            "    (2): Dropout(p=0.5, inplace=False)\n",
            "    (3): Linear(in_features=4096, out_features=4096, bias=True)\n",
            "    (4): ReLU()\n",
            "    (5): Dropout(p=0.5, inplace=False)\n",
            "    (6): Linear(in_features=4096, out_features=10, bias=True)\n",
            "  )\n",
            ")\n"
          ],
          "name": "stdout"
        }
      ]
    },
    {
      "cell_type": "code",
      "metadata": {
        "id": "CNDoNwtfaV9h",
        "colab_type": "code",
        "outputId": "7ea3bae9-dc09-4da5-926d-cc95b787cbce",
        "colab": {
          "base_uri": "https://localhost:8080/",
          "height": 411,
          "referenced_widgets": [
            "dd8232a304194a3eabe9c30b710b1716",
            "8b3d30caf9ab4c6e86f63d3e4d69f176",
            "85fad95d1c49415197982ccad5085e37",
            "36a95a4caa754470b594f08135496494",
            "387719776827456eab112afb9bf4d00b",
            "baeaaf026e8449358a5524f7e0a47c88",
            "5af5f8d0eae341f1add8c489c50b97af",
            "472556a7a4814cd89cb5d177b2558743",
            "a1fa5e4090204f34bd5310d11fa6b3a1",
            "36f1c107214041028840015176823332",
            "772a073e69ee4d9b8899d604c34e9151",
            "e737cee00ee444478f2bde29df6afba5",
            "45bf1fc85b9d4838923383387e95bb71",
            "40e405674ee8489cbffd3123c57ad5ec",
            "a68e8d2f82784982bd2ee4e4415bd714",
            "ef518bdb0f184476bdb91965534f4b63",
            "b9baa25d85d54cb29314b2cea891cae3",
            "010bc11d67724608a2055bb9609ff28b",
            "5fb9002f788e4e078e75f7d6ce95e8c9",
            "de5b3e9397e44c0e8cb4e44836aae211",
            "4c595fc52dc047ee81c060b228ec9298",
            "cdee7f4c3807417b84e2847d9afb3fd6",
            "f601751b0558478688d91bb3ea35af67",
            "5cc353eda134476e8ab8b0e09150eca2",
            "7a3a5ba697ef4ea5a16fbbcf765b3547",
            "580596dd9de84d49b96087fb0b809e7e",
            "b4b1d43c73964f0e9ee187d92868dcad",
            "2caeb85ce97449549b2e0f218fad9f33",
            "b3bf8c4fee714dbfa0e1c6cf6dc54799",
            "b412ae040c754196893b32bf1bb59b4e",
            "720406212b8642558a339dbae4932bfe",
            "a9a77b1449af4b999dd6192eec6d3176"
          ]
        }
      },
      "source": [
        "# 读取数据\n",
        "# 这里我们还是使用Fashion-MNIST来演示。读取数据的时候我们额外做一步将图像高和宽扩大到Alex net使用的图像高和宽224.可通过torchvision.transforms.Resize实例来实现\n",
        "# 我们在ToTensor实例前使用Resize实例，然后使用Compose实例来将这两个变换串联以方便调用\n",
        "def load_data_fashion_mnist(batch_size, resize=None):\n",
        "  trans = []\n",
        "  if resize:\n",
        "    trans.append(torchvision.transforms.Resize(size=resize))\n",
        "  trans.append(torchvision.transforms.ToTensor())\n",
        "\n",
        "  transform = torchvision.transforms.Compose(trans)\n",
        "  mnist_train = torchvision.datasets.FashionMNIST(root='~/Datasets/FashionMNIST',train=True,transform=transform,download=True)\n",
        "  mnist_test = torchvision.datasets.FashionMNIST(root='~/Datasets/FashionMNIST',train=False,transform=transform,download=True)\n",
        "\n",
        "  train_iter = torch.utils.data.DataLoader(mnist_train,batch_size=batch_size,shuffle=True,num_workers=4)\n",
        "  test_iter = torch.utils.data.DataLoader(mnist_test,batch_size=batch_size,shuffle=False,num_workers=4)\n",
        "  return train_iter, test_iter\n",
        "\n",
        "batch_size = 128\n",
        "train_iter, test_iter = load_data_fashion_mnist(batch_size, resize=224)\n"
      ],
      "execution_count": 3,
      "outputs": [
        {
          "output_type": "stream",
          "text": [
            "Downloading http://fashion-mnist.s3-website.eu-central-1.amazonaws.com/train-images-idx3-ubyte.gz to /root/Datasets/FashionMNIST/FashionMNIST/raw/train-images-idx3-ubyte.gz\n"
          ],
          "name": "stdout"
        },
        {
          "output_type": "display_data",
          "data": {
            "application/vnd.jupyter.widget-view+json": {
              "model_id": "dd8232a304194a3eabe9c30b710b1716",
              "version_minor": 0,
              "version_major": 2
            },
            "text/plain": [
              "HBox(children=(IntProgress(value=1, bar_style='info', max=1), HTML(value='')))"
            ]
          },
          "metadata": {
            "tags": []
          }
        },
        {
          "output_type": "stream",
          "text": [
            "\n",
            "Extracting /root/Datasets/FashionMNIST/FashionMNIST/raw/train-images-idx3-ubyte.gz to /root/Datasets/FashionMNIST/FashionMNIST/raw\n",
            "Downloading http://fashion-mnist.s3-website.eu-central-1.amazonaws.com/train-labels-idx1-ubyte.gz to /root/Datasets/FashionMNIST/FashionMNIST/raw/train-labels-idx1-ubyte.gz\n"
          ],
          "name": "stdout"
        },
        {
          "output_type": "display_data",
          "data": {
            "application/vnd.jupyter.widget-view+json": {
              "model_id": "a1fa5e4090204f34bd5310d11fa6b3a1",
              "version_minor": 0,
              "version_major": 2
            },
            "text/plain": [
              "HBox(children=(IntProgress(value=1, bar_style='info', max=1), HTML(value='')))"
            ]
          },
          "metadata": {
            "tags": []
          }
        },
        {
          "output_type": "stream",
          "text": [
            "\n",
            "Extracting /root/Datasets/FashionMNIST/FashionMNIST/raw/train-labels-idx1-ubyte.gz to /root/Datasets/FashionMNIST/FashionMNIST/raw\n",
            "Downloading http://fashion-mnist.s3-website.eu-central-1.amazonaws.com/t10k-images-idx3-ubyte.gz to /root/Datasets/FashionMNIST/FashionMNIST/raw/t10k-images-idx3-ubyte.gz\n"
          ],
          "name": "stdout"
        },
        {
          "output_type": "display_data",
          "data": {
            "application/vnd.jupyter.widget-view+json": {
              "model_id": "b9baa25d85d54cb29314b2cea891cae3",
              "version_minor": 0,
              "version_major": 2
            },
            "text/plain": [
              "HBox(children=(IntProgress(value=1, bar_style='info', max=1), HTML(value='')))"
            ]
          },
          "metadata": {
            "tags": []
          }
        },
        {
          "output_type": "stream",
          "text": [
            "\n",
            "Extracting /root/Datasets/FashionMNIST/FashionMNIST/raw/t10k-images-idx3-ubyte.gz to /root/Datasets/FashionMNIST/FashionMNIST/raw\n",
            "Downloading http://fashion-mnist.s3-website.eu-central-1.amazonaws.com/t10k-labels-idx1-ubyte.gz to /root/Datasets/FashionMNIST/FashionMNIST/raw/t10k-labels-idx1-ubyte.gz\n"
          ],
          "name": "stdout"
        },
        {
          "output_type": "display_data",
          "data": {
            "application/vnd.jupyter.widget-view+json": {
              "model_id": "7a3a5ba697ef4ea5a16fbbcf765b3547",
              "version_minor": 0,
              "version_major": 2
            },
            "text/plain": [
              "HBox(children=(IntProgress(value=1, bar_style='info', max=1), HTML(value='')))"
            ]
          },
          "metadata": {
            "tags": []
          }
        },
        {
          "output_type": "stream",
          "text": [
            "\n",
            "Extracting /root/Datasets/FashionMNIST/FashionMNIST/raw/t10k-labels-idx1-ubyte.gz to /root/Datasets/FashionMNIST/FashionMNIST/raw\n",
            "Processing...\n",
            "Done!\n"
          ],
          "name": "stdout"
        }
      ]
    },
    {
      "cell_type": "code",
      "metadata": {
        "id": "OXWDsTDMfs7v",
        "colab_type": "code",
        "outputId": "bc193cb4-1147-4db0-83ff-aee7dcbf871d",
        "colab": {
          "base_uri": "https://localhost:8080/",
          "height": 52
        }
      },
      "source": [
        "print(type(train_iter))\n",
        "print(len(train_iter))  # 这里len 可以理解为总共有 469个batch\n"
      ],
      "execution_count": 4,
      "outputs": [
        {
          "output_type": "stream",
          "text": [
            "<class 'torch.utils.data.dataloader.DataLoader'>\n",
            "469\n"
          ],
          "name": "stdout"
        }
      ]
    },
    {
      "cell_type": "code",
      "metadata": {
        "id": "WDTgtx61hwif",
        "colab_type": "code",
        "colab": {}
      },
      "source": [
        "# 使用GPU来运算，下面来写evaluate_accuracy函数做修改。支持GPU\n",
        "def evaluate_accuracy(data_iter, net, device = torch.device('cuda' if torch.cuda.is_available() else 'cpu')):\n",
        "  acc_sum, n =0.0, 0\n",
        "  with torch.no_grad():\n",
        "    for X,y in data_iter:\n",
        "      if isinstance(net, torch.nn.Module):\n",
        "        net.eval()   # 评估模式，这回关闭dropout\n",
        "        acc_sum += (net(X.to(device)).argmax(dim=1) == y.to(device)).float().sum().cpu().item()\n",
        "        net.train()  # 改回训练模式\n",
        "      else:\n",
        "        if('is_training' in net.__code__.co_varnames):\n",
        "          acc_sum += (net(X,is_training=False).argmax(dim=1) == y).float().sum().item()\n",
        "        else:\n",
        "          acc_sum += (net(X).argmax(dim=1) == y).float().sum().item()\n",
        "      n += y.shape[0]\n",
        "  return acc_sum / n"
      ],
      "execution_count": 0,
      "outputs": []
    },
    {
      "cell_type": "code",
      "metadata": {
        "id": "3RJOVbEhg8Qi",
        "colab_type": "code",
        "colab": {}
      },
      "source": [
        "def train_ch5(net, train_iter, test_iter, batch_size, optimizer, device, num_epochs):\n",
        "  net = net.to(device)\n",
        "  print(\"training on \",device)\n",
        "  loss = torch.nn.CrossEntropyLoss()\n",
        "  batch_count = 0\n",
        "  for epoch in range(num_epochs):\n",
        "    train_l_sum, train_acc_sum, n, start = 0.0, 0.0, 0, time.time()\n",
        "    for X,y in train_iter:\n",
        "      X = X.to(device)\n",
        "      y = y.to(device)\n",
        "      y_hat = net(X)\n",
        "      l = loss(y_hat,y)\n",
        "      optimizer.zero_grad()\n",
        "      l.backward()\n",
        "      optimizer.step()\n",
        "      train_l_sum += l.cpu().item()\n",
        "      train_acc_sum +=(y_hat.argmax(dim=1) == y).sum().cpu().item()\n",
        "      n += y.shape[0]\n",
        "      batch_count +=1\n",
        "    test_acc = evaluate_accuracy(test_iter, net)\n",
        "    print('epoch %d, loss %.4f, train acc %.3f, test acc %.3f,time %.1f sec'% (epoch + 1, train_l_sum / batch_count,train_acc_sum / n, test_acc, time.time() - start))"
      ],
      "execution_count": 0,
      "outputs": []
    },
    {
      "cell_type": "code",
      "metadata": {
        "id": "SQ7Pq1oLf1ys",
        "colab_type": "code",
        "outputId": "65232a36-3b29-488d-a0aa-d91131951307",
        "colab": {
          "base_uri": "https://localhost:8080/",
          "height": 122
        }
      },
      "source": [
        "# 训练\n",
        "lr, num_epochs = 0.001, 5\n",
        "optimizer = torch.optim.Adam(net.parameters(), lr=lr)\n",
        "train_ch5(net,train_iter,test_iter,batch_size,optimizer,device,num_epochs)"
      ],
      "execution_count": 0,
      "outputs": [
        {
          "output_type": "stream",
          "text": [
            "training on  cuda\n",
            "epoch 1, loss 0.3319, train acc 0.877, test acc 0.885,time 77.7 sec\n",
            "epoch 2, loss 0.1422, train acc 0.895, test acc 0.898,time 77.7 sec\n",
            "epoch 3, loss 0.0856, train acc 0.906, test acc 0.897,time 77.5 sec\n",
            "epoch 4, loss 0.0589, train acc 0.913, test acc 0.910,time 77.6 sec\n",
            "epoch 5, loss 0.0437, train acc 0.919, test acc 0.914,time 77.7 sec\n"
          ],
          "name": "stdout"
        }
      ]
    },
    {
      "cell_type": "markdown",
      "metadata": {
        "id": "LyO4CbJ_hqUO",
        "colab_type": "text"
      },
      "source": [
        "# 5.7 使用重复元素的网络 -> VGG 网络\n",
        "AlexNet在LeNet的基础上增加了3个卷积层。VGG提出了可以通过重复使用简单的基础块来构建深度模型的思路\n",
        "VGG块的组成规律是：连续使用数个相同的填充为１，窗口形状为３ｘ３的卷积层后接上一个步幅为２，窗口形状为２ｘ２的最大池化层。卷积层保持输入的高和宽不变，而池化层则对其减半。我们使用　vgg_block 函数来实现这个基础的VGG块，它可以指定卷积层的数量和输入输出通道数。\n",
        "**对于给定的感受野（与输出有关的输入图片的局部大小），采用堆积的小卷积核优于采用大的卷积核，因为可以增加网络深度来保证学习更复杂的模式，而且代价还比较小（参数更少）。例如，在VGG中，使用了3个3x3的卷积核来代替7x7的卷积核，使用了2个3x3卷积核来代替5x5卷积核，这样做的主要目的是在保证具有相同感受野的条件下，提升了网络的深度，在一定程度上提升了神经网络的效果**"
      ]
    },
    {
      "cell_type": "code",
      "metadata": {
        "id": "Q5ggEP1ZhYsl",
        "colab_type": "code",
        "colab": {}
      },
      "source": [
        "import time\n",
        "import torch\n",
        "from torch import nn, optim\n",
        "\n",
        "device = torch.device('cuda' if torch.cuda.is_available() else 'cpu')\n",
        "def vgg_block(num_convs, in_channels, out_channels):\n",
        "  blk = []\n",
        "  for i in range(num_convs):\n",
        "    if i == 0:\n",
        "      blk.append(nn.Conv2d(in_channels, out_channels,kernel_size=3, padding=1))\n",
        "    else:\n",
        "      blk.append(nn.Conv2d(out_channels, out_channels,kernel_size=3, padding=1))\n",
        "    blk.append(nn.ReLU())\n",
        "  blk.append(nn.MaxPool2d(kernel_size=2, stride=2))  # 这里会使宽高减半\n",
        "  return nn.Sequential(*blk)   # 这里要加 * "
      ],
      "execution_count": 0,
      "outputs": []
    },
    {
      "cell_type": "code",
      "metadata": {
        "id": "4ZsVrYqolJW0",
        "colab_type": "code",
        "colab": {}
      },
      "source": [
        "# 5.7.2 VGG 网络\n",
        "# VGG 网络也是前面是卷积层模块，后接全连接模块。卷积层模块是数个vgg_block模块，数量是一个超参数由变量 conv_arch定义。该变量指定了每个VGG块里卷积层个数和输入输出通道数\n",
        "# 全连接模块则跟AlexNet中的一样。  现在我们构造一个VGG，他有5个卷积块，前两块使用单卷积层，而后3块使用双卷积层。第一块的输入输出通道分别是1（因为下面要使用的Fashion-MNIST数据的通道数为1）\n",
        "# 和64，之后每次对输出通道数翻倍，直到变为512。因为这个网络使用了8个卷积层和3个全连接层，所以经常称为VGG-11\n",
        "conv_arch = ((1,1,64),(1,64,128),(2,128,256),(2,256,512),(2,512,512))\n",
        "# 经过5个vgg_block，宽高会减半5次，变成224/32 = 7\n",
        "fc_features = 512*7*7   # c*w*h\n",
        "fc_hidden_units = 4096   # 任意"
      ],
      "execution_count": 0,
      "outputs": []
    },
    {
      "cell_type": "code",
      "metadata": {
        "id": "Mk9ZzHior4m3",
        "colab_type": "code",
        "colab": {}
      },
      "source": [
        "class FlattenLayer(nn.Module):\n",
        "  def __init__(self):\n",
        "    super(FlattenLayer, self).__init__()\n",
        "  def forward(self, x): # x shape: (batch, *, *, ...)\n",
        "    return x.view(x.shape[0], -1)"
      ],
      "execution_count": 0,
      "outputs": []
    },
    {
      "cell_type": "code",
      "metadata": {
        "id": "CVMTy8R5qbTv",
        "colab_type": "code",
        "colab": {}
      },
      "source": [
        "def vgg(conv_arch, fc_features, fc_hidden_units=4096):\n",
        "  net = nn.Sequential()\n",
        "  for i, (num_convs, in_channels, out_channels) in enumerate(conv_arch):\n",
        "    # 每经过一个vgg_block都会使宽高减半\n",
        "    net.add_module(\"vgg_block_\"+str(i+1),vgg_block(num_convs, in_channels, out_channels))\n",
        "  net.add_module(\"fc\",nn.Sequential(\n",
        "      FlattenLayer(),\n",
        "      nn.Linear(fc_features, fc_hidden_units),\n",
        "      nn.ReLU(),\n",
        "      nn.Dropout(0.5),\n",
        "      nn.Linear(fc_hidden_units, fc_hidden_units),\n",
        "      nn.ReLU(),\n",
        "      nn.Dropout(0.5),\n",
        "      nn.Linear(fc_hidden_units,10)\n",
        "  ))\n",
        "  return net"
      ],
      "execution_count": 0,
      "outputs": []
    },
    {
      "cell_type": "code",
      "metadata": {
        "id": "2bcQLch3rqb6",
        "colab_type": "code",
        "colab": {
          "base_uri": "https://localhost:8080/",
          "height": 140
        },
        "outputId": "5094bd37-e9ca-462c-d8c8-30e22f290960"
      },
      "source": [
        "# 下面构造一个高和宽均为224的单通道数据样本来观察每一层的输出形状\n",
        "net = vgg(conv_arch, fc_features,fc_hidden_units)\n",
        "X = torch.rand(1,1,224,224)\n",
        "\n",
        "print(net.named_children())\n",
        "# named_children获取一级子模块及其名字（named_modules会返回所有子模块，包括子模块的子模块\n",
        "for name, blk in net.named_children():\n",
        "  X = blk(X)\n",
        "  print(name, \"output shape:\",X.shape)"
      ],
      "execution_count": 12,
      "outputs": [
        {
          "output_type": "stream",
          "text": [
            "<generator object Module.named_children at 0x7fdcd01c57d8>\n",
            "vgg_block_1 output shape: torch.Size([1, 64, 112, 112])\n",
            "vgg_block_2 output shape: torch.Size([1, 128, 56, 56])\n",
            "vgg_block_3 output shape: torch.Size([1, 256, 28, 28])\n",
            "vgg_block_4 output shape: torch.Size([1, 512, 14, 14])\n",
            "vgg_block_5 output shape: torch.Size([1, 512, 7, 7])\n",
            "fc output shape: torch.Size([1, 10])\n"
          ],
          "name": "stdout"
        }
      ]
    },
    {
      "cell_type": "code",
      "metadata": {
        "id": "aBsY09P1slFb",
        "colab_type": "code",
        "colab": {
          "base_uri": "https://localhost:8080/",
          "height": 794
        },
        "outputId": "15468d22-74d3-491b-9e79-2addfe8f4332"
      },
      "source": [
        "# 5.7.3 获取数据和训练模型\n",
        "# 因为 VGG-11 计算上比Alexnet更加复杂，处于测试的目的我们构造一个通道数更小，或者说更窄的\n",
        "# 网络在 Fashion-MNIST数据集上进行训练。 \n",
        "# 我这里先不按照教程来做了，还是继续按原尺寸来\n",
        "print(net)"
      ],
      "execution_count": 13,
      "outputs": [
        {
          "output_type": "stream",
          "text": [
            "Sequential(\n",
            "  (vgg_block_1): Sequential(\n",
            "    (0): Conv2d(1, 64, kernel_size=(3, 3), stride=(1, 1), padding=(1, 1))\n",
            "    (1): ReLU()\n",
            "    (2): MaxPool2d(kernel_size=2, stride=2, padding=0, dilation=1, ceil_mode=False)\n",
            "  )\n",
            "  (vgg_block_2): Sequential(\n",
            "    (0): Conv2d(64, 128, kernel_size=(3, 3), stride=(1, 1), padding=(1, 1))\n",
            "    (1): ReLU()\n",
            "    (2): MaxPool2d(kernel_size=2, stride=2, padding=0, dilation=1, ceil_mode=False)\n",
            "  )\n",
            "  (vgg_block_3): Sequential(\n",
            "    (0): Conv2d(128, 256, kernel_size=(3, 3), stride=(1, 1), padding=(1, 1))\n",
            "    (1): ReLU()\n",
            "    (2): Conv2d(256, 256, kernel_size=(3, 3), stride=(1, 1), padding=(1, 1))\n",
            "    (3): ReLU()\n",
            "    (4): MaxPool2d(kernel_size=2, stride=2, padding=0, dilation=1, ceil_mode=False)\n",
            "  )\n",
            "  (vgg_block_4): Sequential(\n",
            "    (0): Conv2d(256, 512, kernel_size=(3, 3), stride=(1, 1), padding=(1, 1))\n",
            "    (1): ReLU()\n",
            "    (2): Conv2d(512, 512, kernel_size=(3, 3), stride=(1, 1), padding=(1, 1))\n",
            "    (3): ReLU()\n",
            "    (4): MaxPool2d(kernel_size=2, stride=2, padding=0, dilation=1, ceil_mode=False)\n",
            "  )\n",
            "  (vgg_block_5): Sequential(\n",
            "    (0): Conv2d(512, 512, kernel_size=(3, 3), stride=(1, 1), padding=(1, 1))\n",
            "    (1): ReLU()\n",
            "    (2): Conv2d(512, 512, kernel_size=(3, 3), stride=(1, 1), padding=(1, 1))\n",
            "    (3): ReLU()\n",
            "    (4): MaxPool2d(kernel_size=2, stride=2, padding=0, dilation=1, ceil_mode=False)\n",
            "  )\n",
            "  (fc): Sequential(\n",
            "    (0): FlattenLayer()\n",
            "    (1): Linear(in_features=25088, out_features=4096, bias=True)\n",
            "    (2): ReLU()\n",
            "    (3): Dropout(p=0.5, inplace=False)\n",
            "    (4): Linear(in_features=4096, out_features=4096, bias=True)\n",
            "    (5): ReLU()\n",
            "    (6): Dropout(p=0.5, inplace=False)\n",
            "    (7): Linear(in_features=4096, out_features=10, bias=True)\n",
            "  )\n",
            ")\n"
          ],
          "name": "stdout"
        }
      ]
    },
    {
      "cell_type": "code",
      "metadata": {
        "id": "6QpG8BVA3GMj",
        "colab_type": "code",
        "colab": {
          "base_uri": "https://localhost:8080/",
          "height": 122
        },
        "outputId": "a232bb2f-79bd-48db-cbd0-c10309833207"
      },
      "source": [
        "batch_size = 32\n",
        "# train_iter 和test_iter都还有用\n",
        "lr = 0.001\n",
        "num_epochs = 5\n",
        "optimizer = torch.optim.Adam(net.parameters(), lr=lr)\n",
        "train_ch5(net, train_iter, test_iter, batch_size, optimizer, device, num_epochs)"
      ],
      "execution_count": 14,
      "outputs": [
        {
          "output_type": "stream",
          "text": [
            "training on  cuda\n",
            "epoch 1, loss 0.6087, train acc 0.770, test acc 0.870,time 439.5 sec\n",
            "epoch 2, loss 0.1546, train acc 0.887, test acc 0.885,time 438.7 sec\n",
            "epoch 3, loss 0.0867, train acc 0.904, test acc 0.907,time 438.1 sec\n",
            "epoch 4, loss 0.0571, train acc 0.916, test acc 0.910,time 437.0 sec\n",
            "epoch 5, loss 0.0406, train acc 0.925, test acc 0.920,time 436.7 sec\n"
          ],
          "name": "stdout"
        }
      ]
    },
    {
      "cell_type": "code",
      "metadata": {
        "id": "l8KCEBEL3m46",
        "colab_type": "code",
        "colab": {}
      },
      "source": [
        ""
      ],
      "execution_count": 0,
      "outputs": []
    }
  ]
}