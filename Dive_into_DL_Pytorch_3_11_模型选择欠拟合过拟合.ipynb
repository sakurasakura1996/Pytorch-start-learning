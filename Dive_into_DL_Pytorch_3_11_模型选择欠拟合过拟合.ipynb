{
  "nbformat": 4,
  "nbformat_minor": 0,
  "metadata": {
    "colab": {
      "name": "Dive-into-DL-Pytorch-3.11-模型选择欠拟合过拟合.ipynb",
      "provenance": [],
      "mount_file_id": "1qe2qHjnguAi6gtsmuOdmnQhBIHt2dLBK",
      "authorship_tag": "ABX9TyNp6y60i8HCptQDkHzLboFF",
      "include_colab_link": true
    },
    "kernelspec": {
      "name": "python3",
      "display_name": "Python 3"
    }
  },
  "cells": [
    {
      "cell_type": "markdown",
      "metadata": {
        "id": "view-in-github",
        "colab_type": "text"
      },
      "source": [
        "<a href=\"https://colab.research.google.com/github/sakurasakura1996/Pytorch-start-learning/blob/master/Dive_into_DL_Pytorch_3_11_%E6%A8%A1%E5%9E%8B%E9%80%89%E6%8B%A9%E6%AC%A0%E6%8B%9F%E5%90%88%E8%BF%87%E6%8B%9F%E5%90%88.ipynb\" target=\"_parent\"><img src=\"https://colab.research.google.com/assets/colab-badge.svg\" alt=\"Open In Colab\"/></a>"
      ]
    },
    {
      "cell_type": "code",
      "metadata": {
        "id": "DbsgbULAxPXo",
        "colab_type": "code",
        "colab": {}
      },
      "source": [
        "# 3.11 过拟合和欠拟合\n",
        "# 训练误差 和 泛化误差\n",
        "# 训练误差：模型在训练数据集上的误差\n",
        "# 泛化误差：模型在任意一个测试数据集样本上表现出的误差的期望，常常通过测试数据集上的误差来近似。\n",
        "# 3.11.2.3 K折交叉验证\n",
        "\n",
        "# 3.12 权重衰减\n",
        "# 本节介绍应对过拟合问题的常用方法：权重衰减(等价于L2范数正则化)\n",
        "# 正则化通过过模型损失函数添加惩罚项使学出的模型参数值较小，是应对过拟合的常用手段。\n",
        "\n"
      ],
      "execution_count": 0,
      "outputs": []
    }
  ]
}